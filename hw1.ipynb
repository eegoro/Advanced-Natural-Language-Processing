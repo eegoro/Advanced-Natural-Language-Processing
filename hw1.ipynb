{
  "cells": [
    {
      "cell_type": "markdown",
      "metadata": {
        "id": "TEEKQwtYDMUz"
      },
      "source": [
        "**SOFT DEADLINE:** `20.03.2022 23:59 msk` "
      ]
    },
    {
      "cell_type": "markdown",
      "metadata": {
        "id": "g-IAo9sYDMU-"
      },
      "source": [
        "# [5 points] Part 1. Data cleaning"
      ]
    },
    {
      "cell_type": "markdown",
      "metadata": {
        "id": "-SNyjuGjDMU_"
      },
      "source": [
        "The task is to clear the text data of the crawled web-pages from different sites. \n",
        "\n",
        "It is necessary to ensure that the distribution of the 100 most frequent words includes only meaningful words in english language (not particles, conjunctions, prepositions, numbers, tags, symbols)."
      ]
    },
    {
      "cell_type": "markdown",
      "metadata": {
        "id": "TA4VkGl2DMVB"
      },
      "source": [
        "Determine the order of operations below and carry out the appropriate cleaning.\n",
        "\n",
        "1. Remove non-english words\n",
        "1. Remove html-tags (try to do it with regular expression, or play with beautifulsoap library)\n",
        "1. Apply lemmatization / stemming\n",
        "1. Remove stop-words\n",
        "1. Additional processing - At your own initiative, if this helps to obtain a better distribution"
      ]
    },
    {
      "cell_type": "markdown",
      "metadata": {
        "id": "hjLsB9pdDMVC"
      },
      "source": [
        "#### Hints"
      ]
    },
    {
      "cell_type": "markdown",
      "metadata": {
        "id": "mk6ZLncvDMVD"
      },
      "source": [
        "1. To do text processing you may use nltk and re libraries\n",
        "1. and / or any other libraries on your choise"
      ]
    },
    {
      "cell_type": "markdown",
      "metadata": {
        "id": "KCbTa1OiDMVE"
      },
      "source": [
        "#### Data reading"
      ]
    },
    {
      "cell_type": "markdown",
      "metadata": {
        "id": "cXbG649IDMVG"
      },
      "source": [
        "The dataset for this part can be downloaded here: `https://drive.google.com/file/d/1wLwo83J-ikCCZY2RAoYx8NghaSaQ-lBA/view?usp=sharing`"
      ]
    },
    {
      "cell_type": "code",
      "execution_count": null,
      "metadata": {
        "id": "HN8UxSDkDMVH",
        "outputId": "49b8e874-7ea4-4e13-b7ad-6c3376598f5b"
      },
      "outputs": [
        {
          "data": {
            "text/html": [
              "<div>\n",
              "<style scoped>\n",
              "    .dataframe tbody tr th:only-of-type {\n",
              "        vertical-align: middle;\n",
              "    }\n",
              "\n",
              "    .dataframe tbody tr th {\n",
              "        vertical-align: top;\n",
              "    }\n",
              "\n",
              "    .dataframe thead th {\n",
              "        text-align: right;\n",
              "    }\n",
              "</style>\n",
              "<table border=\"1\" class=\"dataframe\">\n",
              "  <thead>\n",
              "    <tr style=\"text-align: right;\">\n",
              "      <th></th>\n",
              "      <th>text</th>\n",
              "    </tr>\n",
              "  </thead>\n",
              "  <tbody>\n",
              "    <tr>\n",
              "      <th>0</th>\n",
              "      <td>&lt;html&gt;\\n&lt;head profile=\"http://www.w3.org/2005/...</td>\n",
              "    </tr>\n",
              "    <tr>\n",
              "      <th>1</th>\n",
              "      <td>&lt;html&gt;\\n&lt;head profile=\"http://www.w3.org/2005/...</td>\n",
              "    </tr>\n",
              "    <tr>\n",
              "      <th>2</th>\n",
              "      <td>&lt;html&gt;\\n&lt;head profile=\"http://www.w3.org/2005/...</td>\n",
              "    </tr>\n",
              "    <tr>\n",
              "      <th>3</th>\n",
              "      <td>&lt;html&gt;\\n&lt;head profile=\"http://www.w3.org/2005/...</td>\n",
              "    </tr>\n",
              "    <tr>\n",
              "      <th>4</th>\n",
              "      <td>&lt;html&gt;\\n&lt;head profile=\"http://www.w3.org/2005/...</td>\n",
              "    </tr>\n",
              "  </tbody>\n",
              "</table>\n",
              "</div>"
            ],
            "text/plain": [
              "                                                text\n",
              "0  <html>\\n<head profile=\"http://www.w3.org/2005/...\n",
              "1  <html>\\n<head profile=\"http://www.w3.org/2005/...\n",
              "2  <html>\\n<head profile=\"http://www.w3.org/2005/...\n",
              "3  <html>\\n<head profile=\"http://www.w3.org/2005/...\n",
              "4  <html>\\n<head profile=\"http://www.w3.org/2005/..."
            ]
          },
          "execution_count": 25,
          "metadata": {},
          "output_type": "execute_result"
        }
      ],
      "source": [
        "import pandas as pd\n",
        "data = pd.read_csv('web_sites_data.csv')\n",
        "\n",
        "data.head()"
      ]
    },
    {
      "cell_type": "markdown",
      "metadata": {
        "id": "fGBTg9g4DMVJ"
      },
      "source": [
        "#### Data processing"
      ]
    },
    {
      "cell_type": "code",
      "execution_count": 2,
      "metadata": {
        "id": "nbpM3QUwDMVK"
      },
      "outputs": [],
      "source": [
        "import nltk\n",
        "import string\n",
        "import re\n",
        "from nltk.tokenize import TreebankWordTokenizer, WhitespaceTokenizer\n",
        "from nltk.stem import PorterStemmer, WordNetLemmatizer\n",
        "from nltk.corpus import stopwords\n",
        "import pandas as pd\n",
        "from bs4 import BeautifulSoup\n",
        "import html\n",
        "from tqdm import tqdm\n",
        "import matplotlib.pyplot as plt\n",
        "import pandas as pd\n",
        "\n",
        "\n",
        "def clear_data(data):\n",
        "    stop_words = stopwords.words(\"english\")\n",
        "\n",
        "    data_list = [i.lower() for i in data['text']]\n",
        "    pre_data = data_list.copy()\n",
        "\n",
        "    for i in tqdm(range(len(data_list))):\n",
        "        \n",
        "        temp = BeautifulSoup(html.unescape(pre_data[i]), 'html.parser').text #Remove html-tags\n",
        "        pre_data[i] = re.sub(r'\\n+', '\\n', temp)\n",
        "        pre_data[i] = re.sub(r'https?://\\S+|www\\.\\S+', '', pre_data[i])\n",
        "        pre_data[i] = re.sub(\"[^a-zA-Z ]+\", \" \", pre_data[i]) # Remove non-english words\n",
        "        pre_data[i] = re.sub(r\"[^\\w\\s]\", \"\", pre_data[i], re.UNICODE)\n",
        "        pre_data[i] = WhitespaceTokenizer().tokenize(pre_data[i])\n",
        "        pre_data[i] = [token for token in pre_data[i] if token not in stop_words and len(token)>3] #Remove stop-words\n",
        "        pre_data[i] = [WordNetLemmatizer().lemmatize(token) for token in pre_data[i]]\n",
        "    return(pre_data)\n",
        "\n",
        "from collections import Counter\n",
        "\n",
        "def freq_words(pre_data):\n",
        "    counter = Counter()\n",
        "\n",
        "    for words in pre_data:\n",
        "        counter.update(Counter(words))\n",
        "\n",
        "    top = counter.most_common(100)\n",
        "    return pd.DataFrame(top, columns=['word', 'freq'])\n"
      ]
    },
    {
      "cell_type": "code",
      "execution_count": null,
      "metadata": {
        "id": "IgTaPdHfos3M",
        "outputId": "4c046f24-3878-41f4-bd52-7ab2c1388710"
      },
      "outputs": [
        {
          "name": "stderr",
          "output_type": "stream",
          "text": [
            "100%|██████████| 71699/71699 [31:58<00:00, 37.36it/s]  \n"
          ]
        }
      ],
      "source": [
        "pre_data = clear_data(data)"
      ]
    },
    {
      "cell_type": "code",
      "execution_count": null,
      "metadata": {
        "id": "3w0guLQAos3M",
        "outputId": "7cb4de3c-3f87-407b-a473-bd137f8c1e63"
      },
      "outputs": [
        {
          "name": "stderr",
          "output_type": "stream",
          "text": [
            "100%|██████████| 71699/71699 [00:03<00:00, 18437.26it/s]\n"
          ]
        }
      ],
      "source": [
        "for i in tqdm(range(len(pre_data))):\n",
        "    with open('predata.txt', 'a') as file:\n",
        "        file.write(' '.join(pre_data[i]) + '\\n')"
      ]
    },
    {
      "cell_type": "code",
      "execution_count": null,
      "metadata": {
        "id": "U4t8LBu0os3N"
      },
      "outputs": [],
      "source": [
        "# pre_data = []\n",
        "# with open('predata.txt', 'r') as file:\n",
        "#     for line in file:\n",
        "#         pre_data.append(line.split())"
      ]
    },
    {
      "cell_type": "markdown",
      "metadata": {
        "id": "_h_c-1kBDMVN"
      },
      "source": [
        "#### Vizualization"
      ]
    },
    {
      "cell_type": "markdown",
      "metadata": {
        "id": "HTu83iAWDMVN"
      },
      "source": [
        "As a visualisation, it is necessary to construct a frequency distribution of words (the 100 most common words), sorted by frequency. \n",
        "\n",
        "For visualization purposes we advice you to use plotly, but you are free to choose other libraries"
      ]
    },
    {
      "cell_type": "code",
      "execution_count": null,
      "metadata": {
        "id": "bHX6IXcrDMVO",
        "outputId": "24e99f0c-76e5-453d-fd0a-606571a0123e"
      },
      "outputs": [
        {
          "data": {
            "text/html": [
              "<div>\n",
              "<style scoped>\n",
              "    .dataframe tbody tr th:only-of-type {\n",
              "        vertical-align: middle;\n",
              "    }\n",
              "\n",
              "    .dataframe tbody tr th {\n",
              "        vertical-align: top;\n",
              "    }\n",
              "\n",
              "    .dataframe thead th {\n",
              "        text-align: right;\n",
              "    }\n",
              "</style>\n",
              "<table border=\"1\" class=\"dataframe\">\n",
              "  <thead>\n",
              "    <tr style=\"text-align: right;\">\n",
              "      <th></th>\n",
              "      <th>word</th>\n",
              "      <th>freq</th>\n",
              "    </tr>\n",
              "  </thead>\n",
              "  <tbody>\n",
              "    <tr>\n",
              "      <th>0</th>\n",
              "      <td>game</td>\n",
              "      <td>625901</td>\n",
              "    </tr>\n",
              "    <tr>\n",
              "      <th>1</th>\n",
              "      <td>xbox</td>\n",
              "      <td>381511</td>\n",
              "    </tr>\n",
              "    <tr>\n",
              "      <th>2</th>\n",
              "      <td>review</td>\n",
              "      <td>249977</td>\n",
              "    </tr>\n",
              "    <tr>\n",
              "      <th>3</th>\n",
              "      <td>news</td>\n",
              "      <td>223887</td>\n",
              "    </tr>\n",
              "    <tr>\n",
              "      <th>4</th>\n",
              "      <td>player</td>\n",
              "      <td>188851</td>\n",
              "    </tr>\n",
              "  </tbody>\n",
              "</table>\n",
              "</div>"
            ],
            "text/plain": [
              "     word    freq\n",
              "0    game  625901\n",
              "1    xbox  381511\n",
              "2  review  249977\n",
              "3    news  223887\n",
              "4  player  188851"
            ]
          },
          "execution_count": 28,
          "metadata": {},
          "output_type": "execute_result"
        }
      ],
      "source": [
        "\n",
        "df_top = freq_words(pre_data)\n",
        "df_top.head()"
      ]
    },
    {
      "cell_type": "code",
      "execution_count": null,
      "metadata": {
        "id": "khlv5wK0os3O",
        "outputId": "d8dd223e-1d13-43b7-d401-bf5177855daf"
      },
      "outputs": [
        {
          "data": {
            "image/png": "[encoded data removed]",
            "text/plain": [
              "<Figure size 1080x720 with 1 Axes>"
            ]
          },
          "metadata": {
            "needs_background": "light"
          },
          "output_type": "display_data"
        }
      ],
      "source": [
        "\n",
        "plt.figure(figsize=(15,10))\n",
        "plt.bar(df_top['word'],df_top['freq'])\n",
        "plt.xticks(rotation=90)\n",
        "\n",
        "plt.show()\n"
      ]
    },
    {
      "cell_type": "markdown",
      "metadata": {
        "id": "5ZxcPfLTDMVO"
      },
      "source": [
        "#### Provide examples of processed text (some parts)\n",
        "\n",
        "Is everything all right with the result of cleaning these examples? What kind of information was lost?"
      ]
    },
    {
      "cell_type": "code",
      "execution_count": null,
      "metadata": {
        "id": "2BSMfa9lDMVP",
        "outputId": "4593bfcd-6f49-449d-ebd2-272b11d1935a"
      },
      "outputs": [
        {
          "data": {
            "text/plain": [
              "'<html>\\n<head profile=\"http://www.w3.org/2005/10/profile\">\\n<LINK REL=\"SHORTCUT ICON\" href=\"http://i.bookmooch.com/favicon.ico\"> \\n<link rel=\"icon\" type=\"image/png\" href=\"http://i.bookmooch.com/favicon.png\">\\n<title>Eric Newby : Love and War in the Apennines</title>\\n<meta http-equiv=\"Content-Type\" content=\"text/html\">\\n\\t\\n</head>\\n<body bgcolor=\"#FFFFFF\" leftmargin=\"0\" topmargin=\"0\" marginwidth=\"0\" marginheight=\"0\" text=\"#000000\" link=\"#0000FF\" vlink=\"#0000FF\" alink=\"#FF0000\" >\\n<basefont face=\"arial, sans-serif\"><font face=\"arial, sans-serif\">\\n<table width=\"100%\" height=\"70\" border=\"0\" cellpadding=\"0\" cellspacing=\"0\">\\n\\t<tr><form action=\"/search\" method=\"get\">\\n\\t\\t<td width=\"283\" colspan=\"2\" rowspan=\"2\" bgcolor=\"#689A9B\">\\n\\t\\t\\t<a href=\"/\">\\n\\t\\t\\t\\t<img src=\"http://i.bookmooch.com/images/bookmooch_logo.gif\" width=\"283\" height=\"66\" border=\"0\" alt=\"BookMooch logo\"></a></td>\\n\\t\\t<td width=\"675\" height=\"38\" colspan=\"9\" align=\"right\" bgcolor=\"#689A9B\" xcolor=\"#689A9B\">\\n\\t\\t\\n<table border=0 cellpadding=\"0\" cells'"
            ]
          },
          "execution_count": 115,
          "metadata": {},
          "output_type": "execute_result"
        }
      ],
      "source": [
        "data['text'][0][:1000]"
      ]
    },
    {
      "cell_type": "code",
      "execution_count": null,
      "metadata": {
        "id": "0xn6XK7UDMVP",
        "outputId": "6b028226-caaa-4655-cc31-c3b59d20f201"
      },
      "outputs": [
        {
          "data": {
            "text/plain": [
              "'eric newby love apennines eric newby love apennines author eric newby title love apennines moochable copy copy available amazon suggests short walk hindu kushslowly gangeson shore mediterraneanthe last grain raceround ireland gear recommended bookmooch bookmooch bookmark show recommendation topic abridgedancientasiaaudiobooksbiographies memoirsbiographies memoir generalbooks cassetteeastern frontedition format europeflorencehiroshima nagasakihistoryhistory europe generalhistory europe italy generalhome frontintelligence operationsitalyiwo jimamedievalmilanmilitarynaplesnavalnormandypearl harborpersonal narrativesreferencerefinementsrenaissanceromesardiniasicilystalingradtraveltravel europe italy generaltuscanyumbriavenicewestern frontwomenworld iiwriting published english binding audio cassette page date isbn publisher harpercollins audio weight pound size inch edition abridged amazon price previous giver jessierey previous moocher wishlists description book description italy made peace summer allied pow eric newby among walked away prison camp italy occupied german camp behind line newby went mountain help local evaded retreating enemy italian peasant sheltered three month classic memoir newby recall selfless people unchanging lifestyle funny bizarre dangerous incident hope local girl later became wife exciting story superbly told punch related interest carlino stuart hood passage freedom joseph frelinghuysen available wishlist save later amazon site related edition recommend'"
            ]
          },
          "execution_count": 116,
          "metadata": {},
          "output_type": "execute_result"
        }
      ],
      "source": [
        "' '.join(pre_data[0][:1000])"
      ]
    },
    {
      "cell_type": "markdown",
      "metadata": {
        "id": "IlSeYg4sDMVQ"
      },
      "source": [
        "# [10 points] Part 2. Duplicates detection. LSH"
      ]
    },
    {
      "cell_type": "markdown",
      "metadata": {
        "id": "ZuMBHSiDDMVR"
      },
      "source": [
        "#### Libraries you can use\n",
        "\n",
        "1. LSH - https://github.com/ekzhu/datasketch\n",
        "1. LSH - https://github.com/mattilyra/LSH\n",
        "1. Any other library on your choise"
      ]
    },
    {
      "cell_type": "markdown",
      "metadata": {
        "id": "uff5aBpgDMVR"
      },
      "source": [
        "1. Detect duplicated text (duplicates do not imply a complete word-to-word match, but texts that may contain a paraphrase, rearrangement of words, sentences)\n",
        "1. Make a plot dependency of duplicates on shingle size (with fixed minhash length) \n",
        "1. Make a plot dependency of duplicates on minhash length (with fixed shingle size)"
      ]
    },
    {
      "cell_type": "code",
      "source": [
        "def shringl(s, l = 5):\n",
        "    return [s[i:i+l] for i in range(len(s))][:-l]"
      ],
      "metadata": {
        "id": "tyC0tvUSlpwY"
      },
      "execution_count": null,
      "outputs": []
    },
    {
      "cell_type": "code",
      "source": [
        "from datasketch import MinHash, MinHashLSH\n",
        "\n",
        "def lsh_similar(minhashes,num_perm):\n",
        "    lsh = MinHashLSH(num_perm=num_perm)\n",
        "    for i, mh in enumerate(tqdm(minhashes)):\n",
        "        # Check if duplicate of already seen item\n",
        "        for j in lsh.query(mh):\n",
        "            yield (j, i)\n",
        "        # Add to the seen items\n",
        "        lsh.insert(i, mh)\n",
        "\n",
        "shr_sizes = [5,10,15,20,25]\n",
        "num_perm = 50\n",
        "duplicates = []\n",
        "for shr_size in shr_sizes:\n",
        "    minhashes = []\n",
        "    for s in pre_data: \n",
        "        s = ' '.join(s) \n",
        "        shr = shringl(s,shr_size)\n",
        "        m = MinHash(num_perm=num_perm)\n",
        "        for d in shr:\n",
        "            m.update(d.encode('utf8'))\n",
        "        minhashes.append(m)\n",
        "    similar_all = list(lsh_similar(minhashes,num_perm))\n",
        "    duplicates.append(len(similar_all))\n",
        "\n",
        "\n",
        "plt.bar(shr_sizes,duplicates)\n",
        "plt.ylabel('Number of duplicates')\n",
        "plt.xlabel('Shringle size')"
      ],
      "metadata": {
        "id": "ThwOlfX7lr_d"
      },
      "execution_count": null,
      "outputs": []
    },
    {
      "cell_type": "code",
      "source": [
        "shr_size = 10\n",
        "num_perms = [50,100,150,200,250]\n",
        "duplicates = []\n",
        "for num_perm in num_perms:\n",
        "    minhashes = []\n",
        "    for s in pre_data: \n",
        "        s = ' '.join(s) \n",
        "        shr = shringl(s,shr_size)\n",
        "        m = MinHash(num_perm=num_perm)\n",
        "        for d in shr:\n",
        "            m.update(d.encode('utf8'))\n",
        "        minhashes.append(m)\n",
        "    similar_all = list(lsh_similar(minhashes,num_perm))\n",
        "    duplicates.append(len(similar_all))\n",
        "\n",
        "\n",
        "plt.bar(num_perms,duplicates)\n",
        "plt.ylabel('Number of duplicates')\n",
        "plt.xlabel('Minhash num_perm')"
      ],
      "metadata": {
        "id": "YVP4S2yhlt4-"
      },
      "execution_count": null,
      "outputs": []
    },
    {
      "cell_type": "markdown",
      "metadata": {
        "id": "njdTa1daDMVS"
      },
      "source": [
        "# [Optional 10 points] Part 3. Topic model"
      ]
    },
    {
      "cell_type": "markdown",
      "metadata": {
        "id": "4BwJNkn2DMVT"
      },
      "source": [
        "In this part you will learn how to do topic modeling with common tools and assess the resulting quality of the models. "
      ]
    },
    {
      "cell_type": "code",
      "source": [
        "import os\n",
        "os.getcwd()"
      ],
      "metadata": {
        "colab": {
          "base_uri": "https://localhost:8080/",
          "height": 37
        },
        "id": "zVfgAYJep1Ku",
        "outputId": "c323fb22-f978-4b06-c699-48b6899997d0"
      },
      "execution_count": 6,
      "outputs": [
        {
          "output_type": "execute_result",
          "data": {
            "text/plain": [
              "'/content'"
            ],
            "application/vnd.google.colaboratory.intrinsic+json": {
              "type": "string"
            }
          },
          "metadata": {},
          "execution_count": 6
        }
      ]
    },
    {
      "cell_type": "code",
      "execution_count": 3,
      "metadata": {
        "id": "l0WcLMhHDMVT",
        "colab": {
          "base_uri": "https://localhost:8080/",
          "height": 419
        },
        "outputId": "ba50d2e7-7d4c-4735-9f5f-97094e926e82"
      },
      "outputs": [
        {
          "output_type": "execute_result",
          "data": {
            "text/plain": [
              "            id                                               text author\n",
              "0      id26305  This process, however, afforded me no means of...    EAP\n",
              "1      id17569  It never once occurred to me that the fumbling...    HPL\n",
              "2      id11008  In his left hand was a gold snuff box, from wh...    EAP\n",
              "3      id27763  How lovely is spring As we looked from Windsor...    MWS\n",
              "4      id12958  Finding nothing else, not even gold, the Super...    HPL\n",
              "...        ...                                                ...    ...\n",
              "19574  id17718  I could have fancied, while I looked at it, th...    EAP\n",
              "19575  id08973  The lids clenched themselves together as if in...    EAP\n",
              "19576  id05267  Mais il faut agir that is to say, a Frenchman ...    EAP\n",
              "19577  id17513  For an item of news like this, it strikes us i...    EAP\n",
              "19578  id00393  He laid a gnarled claw on my shoulder, and it ...    HPL\n",
              "\n",
              "[19579 rows x 3 columns]"
            ],
            "text/html": [
              "\n",
              "  <div id=\"df-a4adc356-33e0-4c50-8d04-306407e6dddd\">\n",
              "    <div class=\"colab-df-container\">\n",
              "      <div>\n",
              "<style scoped>\n",
              "    .dataframe tbody tr th:only-of-type {\n",
              "        vertical-align: middle;\n",
              "    }\n",
              "\n",
              "    .dataframe tbody tr th {\n",
              "        vertical-align: top;\n",
              "    }\n",
              "\n",
              "    .dataframe thead th {\n",
              "        text-align: right;\n",
              "    }\n",
              "</style>\n",
              "<table border=\"1\" class=\"dataframe\">\n",
              "  <thead>\n",
              "    <tr style=\"text-align: right;\">\n",
              "      <th></th>\n",
              "      <th>id</th>\n",
              "      <th>text</th>\n",
              "      <th>author</th>\n",
              "    </tr>\n",
              "  </thead>\n",
              "  <tbody>\n",
              "    <tr>\n",
              "      <th>0</th>\n",
              "      <td>id26305</td>\n",
              "      <td>This process, however, afforded me no means of...</td>\n",
              "      <td>EAP</td>\n",
              "    </tr>\n",
              "    <tr>\n",
              "      <th>1</th>\n",
              "      <td>id17569</td>\n",
              "      <td>It never once occurred to me that the fumbling...</td>\n",
              "      <td>HPL</td>\n",
              "    </tr>\n",
              "    <tr>\n",
              "      <th>2</th>\n",
              "      <td>id11008</td>\n",
              "      <td>In his left hand was a gold snuff box, from wh...</td>\n",
              "      <td>EAP</td>\n",
              "    </tr>\n",
              "    <tr>\n",
              "      <th>3</th>\n",
              "      <td>id27763</td>\n",
              "      <td>How lovely is spring As we looked from Windsor...</td>\n",
              "      <td>MWS</td>\n",
              "    </tr>\n",
              "    <tr>\n",
              "      <th>4</th>\n",
              "      <td>id12958</td>\n",
              "      <td>Finding nothing else, not even gold, the Super...</td>\n",
              "      <td>HPL</td>\n",
              "    </tr>\n",
              "    <tr>\n",
              "      <th>...</th>\n",
              "      <td>...</td>\n",
              "      <td>...</td>\n",
              "      <td>...</td>\n",
              "    </tr>\n",
              "    <tr>\n",
              "      <th>19574</th>\n",
              "      <td>id17718</td>\n",
              "      <td>I could have fancied, while I looked at it, th...</td>\n",
              "      <td>EAP</td>\n",
              "    </tr>\n",
              "    <tr>\n",
              "      <th>19575</th>\n",
              "      <td>id08973</td>\n",
              "      <td>The lids clenched themselves together as if in...</td>\n",
              "      <td>EAP</td>\n",
              "    </tr>\n",
              "    <tr>\n",
              "      <th>19576</th>\n",
              "      <td>id05267</td>\n",
              "      <td>Mais il faut agir that is to say, a Frenchman ...</td>\n",
              "      <td>EAP</td>\n",
              "    </tr>\n",
              "    <tr>\n",
              "      <th>19577</th>\n",
              "      <td>id17513</td>\n",
              "      <td>For an item of news like this, it strikes us i...</td>\n",
              "      <td>EAP</td>\n",
              "    </tr>\n",
              "    <tr>\n",
              "      <th>19578</th>\n",
              "      <td>id00393</td>\n",
              "      <td>He laid a gnarled claw on my shoulder, and it ...</td>\n",
              "      <td>HPL</td>\n",
              "    </tr>\n",
              "  </tbody>\n",
              "</table>\n",
              "<p>19579 rows × 3 columns</p>\n",
              "</div>\n",
              "      <button class=\"colab-df-convert\" onclick=\"convertToInteractive('df-a4adc356-33e0-4c50-8d04-306407e6dddd')\"\n",
              "              title=\"Convert this dataframe to an interactive table.\"\n",
              "              style=\"display:none;\">\n",
              "        \n",
              "  <svg xmlns=\"http://www.w3.org/2000/svg\" height=\"24px\"viewBox=\"0 0 24 24\"\n",
              "       width=\"24px\">\n",
              "    <path d=\"M0 0h24v24H0V0z\" fill=\"none\"/>\n",
              "    <path d=\"M18.56 5.44l.94 2.06.94-2.06 2.06-.94-2.06-.94-.94-2.06-.94 2.06-2.06.94zm-11 1L8.5 8.5l.94-2.06 2.06-.94-2.06-.94L8.5 2.5l-.94 2.06-2.06.94zm10 10l.94 2.06.94-2.06 2.06-.94-2.06-.94-.94-2.06-.94 2.06-2.06.94z\"/><path d=\"M17.41 7.96l-1.37-1.37c-.4-.4-.92-.59-1.43-.59-.52 0-1.04.2-1.43.59L10.3 9.45l-7.72 7.72c-.78.78-.78 2.05 0 2.83L4 21.41c.39.39.9.59 1.41.59.51 0 1.02-.2 1.41-.59l7.78-7.78 2.81-2.81c.8-.78.8-2.07 0-2.86zM5.41 20L4 18.59l7.72-7.72 1.47 1.35L5.41 20z\"/>\n",
              "  </svg>\n",
              "      </button>\n",
              "      \n",
              "  <style>\n",
              "    .colab-df-container {\n",
              "      display:flex;\n",
              "      flex-wrap:wrap;\n",
              "      gap: 12px;\n",
              "    }\n",
              "\n",
              "    .colab-df-convert {\n",
              "      background-color: #E8F0FE;\n",
              "      border: none;\n",
              "      border-radius: 50%;\n",
              "      cursor: pointer;\n",
              "      display: none;\n",
              "      fill: #1967D2;\n",
              "      height: 32px;\n",
              "      padding: 0 0 0 0;\n",
              "      width: 32px;\n",
              "    }\n",
              "\n",
              "    .colab-df-convert:hover {\n",
              "      background-color: #E2EBFA;\n",
              "      box-shadow: 0px 1px 2px rgba(60, 64, 67, 0.3), 0px 1px 3px 1px rgba(60, 64, 67, 0.15);\n",
              "      fill: #174EA6;\n",
              "    }\n",
              "\n",
              "    [theme=dark] .colab-df-convert {\n",
              "      background-color: #3B4455;\n",
              "      fill: #D2E3FC;\n",
              "    }\n",
              "\n",
              "    [theme=dark] .colab-df-convert:hover {\n",
              "      background-color: #434B5C;\n",
              "      box-shadow: 0px 1px 3px 1px rgba(0, 0, 0, 0.15);\n",
              "      filter: drop-shadow(0px 1px 2px rgba(0, 0, 0, 0.3));\n",
              "      fill: #FFFFFF;\n",
              "    }\n",
              "  </style>\n",
              "\n",
              "      <script>\n",
              "        const buttonEl =\n",
              "          document.querySelector('#df-a4adc356-33e0-4c50-8d04-306407e6dddd button.colab-df-convert');\n",
              "        buttonEl.style.display =\n",
              "          google.colab.kernel.accessAllowed ? 'block' : 'none';\n",
              "\n",
              "        async function convertToInteractive(key) {\n",
              "          const element = document.querySelector('#df-a4adc356-33e0-4c50-8d04-306407e6dddd');\n",
              "          const dataTable =\n",
              "            await google.colab.kernel.invokeFunction('convertToInteractive',\n",
              "                                                     [key], {});\n",
              "          if (!dataTable) return;\n",
              "\n",
              "          const docLinkHtml = 'Like what you see? Visit the ' +\n",
              "            '<a target=\"_blank\" href=https://colab.research.google.com/notebooks/data_table.ipynb>data table notebook</a>'\n",
              "            + ' to learn more about interactive tables.';\n",
              "          element.innerHTML = '';\n",
              "          dataTable['output_type'] = 'display_data';\n",
              "          await google.colab.output.renderOutput(dataTable, element);\n",
              "          const docLink = document.createElement('div');\n",
              "          docLink.innerHTML = docLinkHtml;\n",
              "          element.appendChild(docLink);\n",
              "        }\n",
              "      </script>\n",
              "    </div>\n",
              "  </div>\n",
              "  "
            ]
          },
          "metadata": {},
          "execution_count": 3
        }
      ],
      "source": [
        "import pandas as pd\n",
        "data2 = pd.read_csv('data.csv', engine='python')\n",
        "\n",
        "data2"
      ]
    },
    {
      "cell_type": "markdown",
      "metadata": {
        "id": "WkNFzxqPDMVU"
      },
      "source": [
        "The provided data contain chunked stories by Edgar Allan Poe (EAP), Mary Shelley (MWS), and HP Lovecraft (HPL).\n",
        "\n",
        "The dataset can be downloaded here: `https://drive.google.com/file/d/14tAjAzHr6UmFVFV7ABTyNHBh-dWHAaLH/view?usp=sharing`"
      ]
    },
    {
      "cell_type": "markdown",
      "metadata": {
        "id": "5BNIa1miDMVU"
      },
      "source": [
        "#### Preprocess dataset with the functions from the Part 1"
      ]
    },
    {
      "cell_type": "code",
      "source": [
        "nltk.download('stopwords')"
      ],
      "metadata": {
        "colab": {
          "base_uri": "https://localhost:8080/"
        },
        "id": "o8RWT6xgqbEA",
        "outputId": "5effd708-8b2b-44c3-d1da-eadf716ba021"
      },
      "execution_count": 11,
      "outputs": [
        {
          "output_type": "stream",
          "name": "stdout",
          "text": [
            "[nltk_data] Downloading package stopwords to /root/nltk_data...\n",
            "[nltk_data]   Unzipping corpora/stopwords.zip.\n"
          ]
        },
        {
          "output_type": "execute_result",
          "data": {
            "text/plain": [
              "True"
            ]
          },
          "metadata": {},
          "execution_count": 11
        }
      ]
    },
    {
      "cell_type": "code",
      "source": [
        "import nltk\n",
        "nltk.download('wordnet')"
      ],
      "metadata": {
        "colab": {
          "base_uri": "https://localhost:8080/"
        },
        "id": "ZwWjxdZxqjKV",
        "outputId": "d3143d44-9ac9-4322-e10a-b410f454949e"
      },
      "execution_count": 9,
      "outputs": [
        {
          "output_type": "stream",
          "name": "stdout",
          "text": [
            "[nltk_data] Downloading package wordnet to /root/nltk_data...\n",
            "[nltk_data]   Package wordnet is already up-to-date!\n"
          ]
        },
        {
          "output_type": "execute_result",
          "data": {
            "text/plain": [
              "True"
            ]
          },
          "metadata": {},
          "execution_count": 9
        }
      ]
    },
    {
      "cell_type": "code",
      "execution_count": 4,
      "metadata": {
        "id": "7tp-zzdLos3T",
        "outputId": "1c0ea3b0-7c00-423c-faa1-6e77793ddb5c",
        "colab": {
          "base_uri": "https://localhost:8080/",
          "height": 436
        }
      },
      "outputs": [
        {
          "output_type": "stream",
          "name": "stderr",
          "text": [
            "100%|██████████| 19579/19579 [00:07<00:00, 2746.85it/s]\n"
          ]
        },
        {
          "output_type": "execute_result",
          "data": {
            "text/plain": [
              "            id                                               text author\n",
              "0      id26305  process however afforded mean ascertaining dim...    EAP\n",
              "1      id17569         never occurred fumbling might mere mistake    HPL\n",
              "2      id11008  left hand gold snuff capered hill cutting mann...    EAP\n",
              "3      id27763  lovely spring looked windsor terrace sixteen f...    MWS\n",
              "4      id12958  finding nothing else even gold superintendent ...    HPL\n",
              "...        ...                                                ...    ...\n",
              "19574  id17718  could fancied looked eminent landscape painter...    EAP\n",
              "19575  id08973                        lid clenched together spasm    EAP\n",
              "19576  id05267      mais faut agir frenchman never faint outright    EAP\n",
              "19577  id17513              item news like strike coolly received    EAP\n",
              "19578  id00393  laid gnarled claw shoulder seemed shaking alto...    HPL\n",
              "\n",
              "[19579 rows x 3 columns]"
            ],
            "text/html": [
              "\n",
              "  <div id=\"df-87454791-ce2c-4351-b9e7-d12591ad8b03\">\n",
              "    <div class=\"colab-df-container\">\n",
              "      <div>\n",
              "<style scoped>\n",
              "    .dataframe tbody tr th:only-of-type {\n",
              "        vertical-align: middle;\n",
              "    }\n",
              "\n",
              "    .dataframe tbody tr th {\n",
              "        vertical-align: top;\n",
              "    }\n",
              "\n",
              "    .dataframe thead th {\n",
              "        text-align: right;\n",
              "    }\n",
              "</style>\n",
              "<table border=\"1\" class=\"dataframe\">\n",
              "  <thead>\n",
              "    <tr style=\"text-align: right;\">\n",
              "      <th></th>\n",
              "      <th>id</th>\n",
              "      <th>text</th>\n",
              "      <th>author</th>\n",
              "    </tr>\n",
              "  </thead>\n",
              "  <tbody>\n",
              "    <tr>\n",
              "      <th>0</th>\n",
              "      <td>id26305</td>\n",
              "      <td>process however afforded mean ascertaining dim...</td>\n",
              "      <td>EAP</td>\n",
              "    </tr>\n",
              "    <tr>\n",
              "      <th>1</th>\n",
              "      <td>id17569</td>\n",
              "      <td>never occurred fumbling might mere mistake</td>\n",
              "      <td>HPL</td>\n",
              "    </tr>\n",
              "    <tr>\n",
              "      <th>2</th>\n",
              "      <td>id11008</td>\n",
              "      <td>left hand gold snuff capered hill cutting mann...</td>\n",
              "      <td>EAP</td>\n",
              "    </tr>\n",
              "    <tr>\n",
              "      <th>3</th>\n",
              "      <td>id27763</td>\n",
              "      <td>lovely spring looked windsor terrace sixteen f...</td>\n",
              "      <td>MWS</td>\n",
              "    </tr>\n",
              "    <tr>\n",
              "      <th>4</th>\n",
              "      <td>id12958</td>\n",
              "      <td>finding nothing else even gold superintendent ...</td>\n",
              "      <td>HPL</td>\n",
              "    </tr>\n",
              "    <tr>\n",
              "      <th>...</th>\n",
              "      <td>...</td>\n",
              "      <td>...</td>\n",
              "      <td>...</td>\n",
              "    </tr>\n",
              "    <tr>\n",
              "      <th>19574</th>\n",
              "      <td>id17718</td>\n",
              "      <td>could fancied looked eminent landscape painter...</td>\n",
              "      <td>EAP</td>\n",
              "    </tr>\n",
              "    <tr>\n",
              "      <th>19575</th>\n",
              "      <td>id08973</td>\n",
              "      <td>lid clenched together spasm</td>\n",
              "      <td>EAP</td>\n",
              "    </tr>\n",
              "    <tr>\n",
              "      <th>19576</th>\n",
              "      <td>id05267</td>\n",
              "      <td>mais faut agir frenchman never faint outright</td>\n",
              "      <td>EAP</td>\n",
              "    </tr>\n",
              "    <tr>\n",
              "      <th>19577</th>\n",
              "      <td>id17513</td>\n",
              "      <td>item news like strike coolly received</td>\n",
              "      <td>EAP</td>\n",
              "    </tr>\n",
              "    <tr>\n",
              "      <th>19578</th>\n",
              "      <td>id00393</td>\n",
              "      <td>laid gnarled claw shoulder seemed shaking alto...</td>\n",
              "      <td>HPL</td>\n",
              "    </tr>\n",
              "  </tbody>\n",
              "</table>\n",
              "<p>19579 rows × 3 columns</p>\n",
              "</div>\n",
              "      <button class=\"colab-df-convert\" onclick=\"convertToInteractive('df-87454791-ce2c-4351-b9e7-d12591ad8b03')\"\n",
              "              title=\"Convert this dataframe to an interactive table.\"\n",
              "              style=\"display:none;\">\n",
              "        \n",
              "  <svg xmlns=\"http://www.w3.org/2000/svg\" height=\"24px\"viewBox=\"0 0 24 24\"\n",
              "       width=\"24px\">\n",
              "    <path d=\"M0 0h24v24H0V0z\" fill=\"none\"/>\n",
              "    <path d=\"M18.56 5.44l.94 2.06.94-2.06 2.06-.94-2.06-.94-.94-2.06-.94 2.06-2.06.94zm-11 1L8.5 8.5l.94-2.06 2.06-.94-2.06-.94L8.5 2.5l-.94 2.06-2.06.94zm10 10l.94 2.06.94-2.06 2.06-.94-2.06-.94-.94-2.06-.94 2.06-2.06.94z\"/><path d=\"M17.41 7.96l-1.37-1.37c-.4-.4-.92-.59-1.43-.59-.52 0-1.04.2-1.43.59L10.3 9.45l-7.72 7.72c-.78.78-.78 2.05 0 2.83L4 21.41c.39.39.9.59 1.41.59.51 0 1.02-.2 1.41-.59l7.78-7.78 2.81-2.81c.8-.78.8-2.07 0-2.86zM5.41 20L4 18.59l7.72-7.72 1.47 1.35L5.41 20z\"/>\n",
              "  </svg>\n",
              "      </button>\n",
              "      \n",
              "  <style>\n",
              "    .colab-df-container {\n",
              "      display:flex;\n",
              "      flex-wrap:wrap;\n",
              "      gap: 12px;\n",
              "    }\n",
              "\n",
              "    .colab-df-convert {\n",
              "      background-color: #E8F0FE;\n",
              "      border: none;\n",
              "      border-radius: 50%;\n",
              "      cursor: pointer;\n",
              "      display: none;\n",
              "      fill: #1967D2;\n",
              "      height: 32px;\n",
              "      padding: 0 0 0 0;\n",
              "      width: 32px;\n",
              "    }\n",
              "\n",
              "    .colab-df-convert:hover {\n",
              "      background-color: #E2EBFA;\n",
              "      box-shadow: 0px 1px 2px rgba(60, 64, 67, 0.3), 0px 1px 3px 1px rgba(60, 64, 67, 0.15);\n",
              "      fill: #174EA6;\n",
              "    }\n",
              "\n",
              "    [theme=dark] .colab-df-convert {\n",
              "      background-color: #3B4455;\n",
              "      fill: #D2E3FC;\n",
              "    }\n",
              "\n",
              "    [theme=dark] .colab-df-convert:hover {\n",
              "      background-color: #434B5C;\n",
              "      box-shadow: 0px 1px 3px 1px rgba(0, 0, 0, 0.15);\n",
              "      filter: drop-shadow(0px 1px 2px rgba(0, 0, 0, 0.3));\n",
              "      fill: #FFFFFF;\n",
              "    }\n",
              "  </style>\n",
              "\n",
              "      <script>\n",
              "        const buttonEl =\n",
              "          document.querySelector('#df-87454791-ce2c-4351-b9e7-d12591ad8b03 button.colab-df-convert');\n",
              "        buttonEl.style.display =\n",
              "          google.colab.kernel.accessAllowed ? 'block' : 'none';\n",
              "\n",
              "        async function convertToInteractive(key) {\n",
              "          const element = document.querySelector('#df-87454791-ce2c-4351-b9e7-d12591ad8b03');\n",
              "          const dataTable =\n",
              "            await google.colab.kernel.invokeFunction('convertToInteractive',\n",
              "                                                     [key], {});\n",
              "          if (!dataTable) return;\n",
              "\n",
              "          const docLinkHtml = 'Like what you see? Visit the ' +\n",
              "            '<a target=\"_blank\" href=https://colab.research.google.com/notebooks/data_table.ipynb>data table notebook</a>'\n",
              "            + ' to learn more about interactive tables.';\n",
              "          element.innerHTML = '';\n",
              "          dataTable['output_type'] = 'display_data';\n",
              "          await google.colab.output.renderOutput(dataTable, element);\n",
              "          const docLink = document.createElement('div');\n",
              "          docLink.innerHTML = docLinkHtml;\n",
              "          element.appendChild(docLink);\n",
              "        }\n",
              "      </script>\n",
              "    </div>\n",
              "  </div>\n",
              "  "
            ]
          },
          "metadata": {},
          "execution_count": 4
        }
      ],
      "source": [
        "data2['text'] = [' '.join(l) for l in clear_data(data2)]\n",
        "data2"
      ]
    },
    {
      "cell_type": "markdown",
      "metadata": {
        "id": "qKU2D29CDMVV"
      },
      "source": [
        "#### Quality estimation"
      ]
    },
    {
      "cell_type": "markdown",
      "metadata": {
        "id": "l6xfd3vpDMVW"
      },
      "source": [
        "Implement the following three quality fuctions: `coherence` (or `tf-idf coherence`), `normalized PMI`, `based on the distributed word representation`(you can use pretrained w2v vectors or some other model). You are free to use any libraries (for instance gensim) and components."
      ]
    },
    {
      "cell_type": "code",
      "source": [
        "!pip install --upgrade gensim"
      ],
      "metadata": {
        "colab": {
          "base_uri": "https://localhost:8080/"
        },
        "id": "LbxIYlGiqrZt",
        "outputId": "e2a42973-a9de-4176-de39-587dfaa2afc8"
      },
      "execution_count": 17,
      "outputs": [
        {
          "output_type": "stream",
          "name": "stdout",
          "text": [
            "Requirement already satisfied: gensim in /usr/local/lib/python3.7/dist-packages (4.1.2)\n",
            "Requirement already satisfied: numpy>=1.17.0 in /usr/local/lib/python3.7/dist-packages (from gensim) (1.21.5)\n",
            "Requirement already satisfied: scipy>=0.18.1 in /usr/local/lib/python3.7/dist-packages (from gensim) (1.4.1)\n",
            "Requirement already satisfied: smart-open>=1.8.1 in /usr/local/lib/python3.7/dist-packages (from gensim) (5.2.1)\n"
          ]
        }
      ]
    },
    {
      "cell_type": "code",
      "source": [
        "import gensim"
      ],
      "metadata": {
        "id": "HHB3ULokrMT6"
      },
      "execution_count": 18,
      "outputs": []
    },
    {
      "cell_type": "code",
      "execution_count": 1,
      "metadata": {
        "id": "AEtv-gWcDMVW"
      },
      "outputs": [],
      "source": [
        "from gensim.models import CoherenceModel, Nmf, LdaModel \n",
        "from gensim import corpora\n",
        "\n",
        "def q_func(model, texts, dictionary, coh):\n",
        "    return CoherenceModel(model=model, texts=texts, dictionary=dictionary, coherence='c_v')\n",
        "\n",
        "def coherence(model,texts,dictionary):\n",
        "    return q_func(model, texts, dictionary, 'c_v')\n",
        "def norm_PMI(model,texts,dictionary):\n",
        "    return q_func(model, texts, dictionary, 'c_npmi')\n",
        "def distword(model,texts,dictionary):\n",
        "    return q_func(model, texts, dictionary, 'u_mass')"
      ]
    },
    {
      "cell_type": "markdown",
      "metadata": {
        "id": "Kp1jTJmPDMVX"
      },
      "source": [
        "### Topic modeling"
      ]
    },
    {
      "cell_type": "markdown",
      "metadata": {
        "id": "lgbVtgphDMVX"
      },
      "source": [
        "Read and preprocess the dataset, divide it into train and test parts `sklearn.model_selection.train_test_split`. Test part will be used in classification part. For simplicity we do not perform cross-validation here, but you should remember about it."
      ]
    },
    {
      "cell_type": "code",
      "execution_count": 5,
      "metadata": {
        "id": "_Uh0J_C8DMVY"
      },
      "outputs": [],
      "source": [
        "from sklearn.model_selection import train_test_split\n",
        "\n",
        "X = data2.text\n",
        "y = data2.author\n",
        "\n",
        "X_train, X_test, y_train, y_test = train_test_split(X, y, test_size=0.2, random_state=42)"
      ]
    },
    {
      "cell_type": "markdown",
      "metadata": {
        "id": "rNepVz1wDMVY"
      },
      "source": [
        "Plot the histogram of resulting tokens counts in the processed datasets."
      ]
    },
    {
      "cell_type": "code",
      "execution_count": 6,
      "metadata": {
        "id": "L_7JVEfbDMVZ",
        "outputId": "1c1b676b-73ab-440e-d432-f85b65eb1c3d",
        "colab": {
          "base_uri": "https://localhost:8080/",
          "height": 642
        }
      },
      "outputs": [
        {
          "output_type": "display_data",
          "data": {
            "text/plain": [
              "<Figure size 1080x720 with 1 Axes>"
            ],
            "image/png": "[encoded data removed]"
          },
          "metadata": {
            "needs_background": "light"
          }
        }
      ],
      "source": [
        "df_top_train = freq_words([x.split() for x in X_train])\n",
        "\n",
        "plt.figure(figsize=(15,10))\n",
        "plt.bar(df_top_train['word'],df_top_train['freq'])\n",
        "plt.xticks(rotation=90)\n",
        "plt.title(\"Train dataset\")\n",
        "\n",
        "plt.show()"
      ]
    },
    {
      "cell_type": "markdown",
      "metadata": {
        "id": "ulOjNL9vDMVZ"
      },
      "source": [
        "Plot the histogram of resulting tokens counts in the processed datasets."
      ]
    },
    {
      "cell_type": "code",
      "execution_count": 7,
      "metadata": {
        "id": "HAse0LBvDMVa",
        "outputId": "590b6a9d-26d3-4f5b-f78f-2802d96d2f6e",
        "colab": {
          "base_uri": "https://localhost:8080/",
          "height": 644
        }
      },
      "outputs": [
        {
          "output_type": "display_data",
          "data": {
            "text/plain": [
              "<Figure size 1080x720 with 1 Axes>"
            ],
            "image/png": "[encoded data removed]"
          },
          "metadata": {
            "needs_background": "light"
          }
        }
      ],
      "source": [
        "\n",
        "df_top_test = freq_words([x.split() for x in X_test])\n",
        "\n",
        "plt.figure(figsize=(15,10))\n",
        "plt.bar(df_top_test['word'],df_top_test['freq'])\n",
        "plt.xticks(rotation=90)\n",
        "plt.title(\"Test dataset\")\n",
        "\n",
        "plt.show()"
      ]
    },
    {
      "cell_type": "markdown",
      "metadata": {
        "id": "4N86AaGNDMVa"
      },
      "source": [
        "#### NMF"
      ]
    },
    {
      "cell_type": "markdown",
      "metadata": {
        "id": "kPelcAFQDMVa"
      },
      "source": [
        "Implement topic modeling with NMF (you can use `sklearn.decomposition.NMF`) and print out resulting topics. Try to change hyperparameters to better fit the dataset."
      ]
    },
    {
      "cell_type": "code",
      "execution_count": 8,
      "metadata": {
        "id": "SeKx_C5Qos3W"
      },
      "outputs": [],
      "source": [
        "texts = [string.split() for string in X_train]\n",
        "dictionary = corpora.Dictionary(texts)\n",
        "corpus = [dictionary.doc2bow(text) for text in texts]"
      ]
    },
    {
      "cell_type": "code",
      "execution_count": 9,
      "metadata": {
        "id": "DCPzCMMMDMVa",
        "outputId": "50dd553e-6e54-4aca-cdd5-8f7ace17bb03",
        "colab": {
          "base_uri": "https://localhost:8080/"
        }
      },
      "outputs": [
        {
          "output_type": "stream",
          "name": "stdout",
          "text": [
            "(0, '0.094*\"upon\" + 0.006*\"said\" + 0.005*\"little\" + 0.004*\"thus\" + 0.004*\"found\" + 0.004*\"hand\" + 0.004*\"first\" + 0.004*\"never\" + 0.003*\"head\" + 0.003*\"foot\"') (1, '0.081*\"could\" + 0.006*\"little\" + 0.004*\"room\" + 0.004*\"light\" + 0.004*\"night\" + 0.004*\"nothing\" + 0.004*\"never\" + 0.004*\"without\" + 0.003*\"face\" + 0.003*\"wall\"') (2, '0.014*\"even\" + 0.011*\"thing\" + 0.010*\"great\" + 0.008*\"still\" + 0.007*\"eye\" + 0.006*\"love\" + 0.006*\"seemed\" + 0.006*\"many\" + 0.005*\"earth\" + 0.005*\"world\"')\n",
            "Coherence: 0.3526447443170273\n",
            "Normalized PMI: 0.3526447443170273\n",
            "PMI: 0.3526447443170273\n"
          ]
        }
      ],
      "source": [
        "nmf = Nmf(corpus, id2word=dictionary, num_topics=5, random_state=42, chunksize=100)\n",
        "print(*nmf.print_topics()[:3])\n",
        "\n",
        "print('Coherence:', coherence(nmf,texts,dictionary).get_coherence())\n",
        "print('Normalized PMI:', norm_PMI(nmf,texts,dictionary).get_coherence())\n",
        "print('PMI:', distword(nmf,texts,dictionary).get_coherence())"
      ]
    },
    {
      "cell_type": "markdown",
      "metadata": {
        "id": "zuaKAGIWDMVb"
      },
      "source": [
        "#### LDA"
      ]
    },
    {
      "cell_type": "markdown",
      "metadata": {
        "id": "PAK_MfQxDMVb"
      },
      "source": [
        "Implement topic modeling with LDA (you can use gensim implementation) and print out resulting topics. Try to change hyperparameters to better fit the dataset."
      ]
    },
    {
      "cell_type": "code",
      "execution_count": 10,
      "metadata": {
        "id": "fdzopuCJDMVb",
        "outputId": "01d39278-f695-425a-c09a-b63b66c4ad15",
        "colab": {
          "base_uri": "https://localhost:8080/"
        }
      },
      "outputs": [
        {
          "output_type": "stream",
          "name": "stdout",
          "text": [
            "[(0, '0.008*\"upon\" + 0.005*\"time\" + 0.005*\"house\" + 0.005*\"night\" + 0.004*\"long\" + 0.004*\"first\" + 0.004*\"street\" + 0.003*\"year\" + 0.003*\"found\" + 0.003*\"would\"'), (1, '0.008*\"would\" + 0.006*\"could\" + 0.006*\"said\" + 0.006*\"might\" + 0.004*\"time\" + 0.004*\"love\" + 0.004*\"even\" + 0.003*\"dream\" + 0.003*\"year\" + 0.003*\"nothing\"'), (2, '0.007*\"would\" + 0.006*\"upon\" + 0.004*\"could\" + 0.003*\"eye\" + 0.003*\"made\" + 0.003*\"even\" + 0.003*\"seemed\" + 0.003*\"found\" + 0.003*\"death\" + 0.003*\"word\"')]\n",
            "Coherence: 0.2377937212268458\n",
            "Normalized PMI: 0.2377937212268458\n",
            "PMI: 0.2377937212268458\n"
          ]
        }
      ],
      "source": [
        "lda = LdaModel(corpus, num_topics=5, id2word=dictionary)\n",
        "print(lda.print_topics()[:3])\n",
        "\n",
        "print('Coherence:', coherence(lda,texts,dictionary).get_coherence())\n",
        "print('Normalized PMI:', norm_PMI(lda,texts,dictionary).get_coherence())\n",
        "print('PMI:', distword(lda,texts,dictionary).get_coherence())"
      ]
    },
    {
      "cell_type": "markdown",
      "metadata": {
        "id": "vSF6fq0NDMVc"
      },
      "source": [
        "### Additive regularization of topic models "
      ]
    },
    {
      "cell_type": "markdown",
      "metadata": {
        "id": "tVcA4itQDMVc"
      },
      "source": [
        "Implement topic modeling with ARTM. You may use bigartm library (simple installation for linux: pip install bigartm) or TopicNet framework (`https://github.com/machine-intelligence-laboratory/TopicNet`)"
      ]
    },
    {
      "cell_type": "markdown",
      "metadata": {
        "id": "03xhr0PmDMVc"
      },
      "source": [
        "Create artm topic model fit it to the data. Try to change hyperparameters (number of specific and background topics) to better fit the dataset. Play with smoothing and sparsing coefficients (use grid), try to add decorrelator. Print out resulting topics."
      ]
    },
    {
      "cell_type": "markdown",
      "metadata": {
        "id": "mteOYV8TDMVd"
      },
      "source": [
        "[Текст ссылки](https://)Write a function to convert new documents to topics probabilities vectors."
      ]
    },
    {
      "cell_type": "code",
      "source": [
        "!pip install topicnet"
      ],
      "metadata": {
        "colab": {
          "base_uri": "https://localhost:8080/"
        },
        "id": "kkNAzcMeaawn",
        "outputId": "1af86d57-4e79-4edd-ad2a-f83a444347f4"
      },
      "execution_count": 12,
      "outputs": [
        {
          "output_type": "stream",
          "name": "stdout",
          "text": [
            "Collecting topicnet\n",
            "  Downloading topicnet-0.8.0.tar.gz (104 kB)\n",
            "\u001b[K     |████████████████████████████████| 104 kB 4.3 MB/s \n",
            "\u001b[?25hCollecting bigartm\n",
            "  Downloading bigartm-0.9.2-cp37-cp37m-manylinux1_x86_64.whl (1.9 MB)\n",
            "\u001b[K     |████████████████████████████████| 1.9 MB 26.3 MB/s \n",
            "\u001b[?25hRequirement already satisfied: colorlover in /usr/local/lib/python3.7/dist-packages (from topicnet) (0.3.0)\n",
            "Requirement already satisfied: dask[dataframe] in /usr/local/lib/python3.7/dist-packages (from topicnet) (2.12.0)\n",
            "Requirement already satisfied: dill in /usr/local/lib/python3.7/dist-packages (from topicnet) (0.3.4)\n",
            "Requirement already satisfied: ipython in /usr/local/lib/python3.7/dist-packages (from topicnet) (5.5.0)\n",
            "Requirement already satisfied: jinja2 in /usr/local/lib/python3.7/dist-packages (from topicnet) (2.11.3)\n",
            "Requirement already satisfied: numba in /usr/local/lib/python3.7/dist-packages (from topicnet) (0.51.2)\n",
            "Requirement already satisfied: numexpr in /usr/local/lib/python3.7/dist-packages (from topicnet) (2.8.1)\n",
            "Requirement already satisfied: numpy in /usr/local/lib/python3.7/dist-packages (from topicnet) (1.21.5)\n",
            "Requirement already satisfied: pandas in /usr/local/lib/python3.7/dist-packages (from topicnet) (1.3.5)\n",
            "Requirement already satisfied: plotly in /usr/local/lib/python3.7/dist-packages (from topicnet) (5.5.0)\n",
            "Requirement already satisfied: pytest in /usr/local/lib/python3.7/dist-packages (from topicnet) (3.6.4)\n",
            "Requirement already satisfied: scikit-learn in /usr/local/lib/python3.7/dist-packages (from topicnet) (1.0.2)\n",
            "Requirement already satisfied: scipy in /usr/local/lib/python3.7/dist-packages (from topicnet) (1.4.1)\n",
            "Requirement already satisfied: six in /usr/local/lib/python3.7/dist-packages (from topicnet) (1.15.0)\n",
            "Collecting strictyaml\n",
            "  Downloading strictyaml-1.6.1.tar.gz (137 kB)\n",
            "\u001b[K     |████████████████████████████████| 137 kB 50.9 MB/s \n",
            "\u001b[?25hRequirement already satisfied: toolz in /usr/local/lib/python3.7/dist-packages (from topicnet) (0.11.2)\n",
            "Requirement already satisfied: tqdm in /usr/local/lib/python3.7/dist-packages (from topicnet) (4.63.0)\n",
            "Requirement already satisfied: protobuf>=3.0 in /usr/local/lib/python3.7/dist-packages (from bigartm->topicnet) (3.17.3)\n",
            "Collecting partd>=0.3.10\n",
            "  Downloading partd-1.2.0-py3-none-any.whl (19 kB)\n",
            "Collecting fsspec>=0.6.0\n",
            "  Downloading fsspec-2022.2.0-py3-none-any.whl (134 kB)\n",
            "\u001b[K     |████████████████████████████████| 134 kB 45.9 MB/s \n",
            "\u001b[?25hRequirement already satisfied: python-dateutil>=2.7.3 in /usr/local/lib/python3.7/dist-packages (from pandas->topicnet) (2.8.2)\n",
            "Requirement already satisfied: pytz>=2017.3 in /usr/local/lib/python3.7/dist-packages (from pandas->topicnet) (2018.9)\n",
            "Collecting locket\n",
            "  Downloading locket-0.2.1-py2.py3-none-any.whl (4.1 kB)\n",
            "Requirement already satisfied: prompt-toolkit<2.0.0,>=1.0.4 in /usr/local/lib/python3.7/dist-packages (from ipython->topicnet) (1.0.18)\n",
            "Requirement already satisfied: simplegeneric>0.8 in /usr/local/lib/python3.7/dist-packages (from ipython->topicnet) (0.8.1)\n",
            "Requirement already satisfied: decorator in /usr/local/lib/python3.7/dist-packages (from ipython->topicnet) (4.4.2)\n",
            "Requirement already satisfied: setuptools>=18.5 in /usr/local/lib/python3.7/dist-packages (from ipython->topicnet) (57.4.0)\n",
            "Requirement already satisfied: pexpect in /usr/local/lib/python3.7/dist-packages (from ipython->topicnet) (4.8.0)\n",
            "Requirement already satisfied: traitlets>=4.2 in /usr/local/lib/python3.7/dist-packages (from ipython->topicnet) (5.1.1)\n",
            "Requirement already satisfied: pickleshare in /usr/local/lib/python3.7/dist-packages (from ipython->topicnet) (0.7.5)\n",
            "Requirement already satisfied: pygments in /usr/local/lib/python3.7/dist-packages (from ipython->topicnet) (2.6.1)\n",
            "Requirement already satisfied: wcwidth in /usr/local/lib/python3.7/dist-packages (from prompt-toolkit<2.0.0,>=1.0.4->ipython->topicnet) (0.2.5)\n",
            "Requirement already satisfied: MarkupSafe>=0.23 in /usr/local/lib/python3.7/dist-packages (from jinja2->topicnet) (2.0.1)\n",
            "Requirement already satisfied: llvmlite<0.35,>=0.34.0.dev0 in /usr/local/lib/python3.7/dist-packages (from numba->topicnet) (0.34.0)\n",
            "Requirement already satisfied: packaging in /usr/local/lib/python3.7/dist-packages (from numexpr->topicnet) (21.3)\n",
            "Requirement already satisfied: pyparsing!=3.0.5,>=2.0.2 in /usr/local/lib/python3.7/dist-packages (from packaging->numexpr->topicnet) (3.0.7)\n",
            "Requirement already satisfied: ptyprocess>=0.5 in /usr/local/lib/python3.7/dist-packages (from pexpect->ipython->topicnet) (0.7.0)\n",
            "Requirement already satisfied: tenacity>=6.2.0 in /usr/local/lib/python3.7/dist-packages (from plotly->topicnet) (8.0.1)\n",
            "Requirement already satisfied: attrs>=17.4.0 in /usr/local/lib/python3.7/dist-packages (from pytest->topicnet) (21.4.0)\n",
            "Requirement already satisfied: more-itertools>=4.0.0 in /usr/local/lib/python3.7/dist-packages (from pytest->topicnet) (8.12.0)\n",
            "Requirement already satisfied: atomicwrites>=1.0 in /usr/local/lib/python3.7/dist-packages (from pytest->topicnet) (1.4.0)\n",
            "Requirement already satisfied: pluggy<0.8,>=0.5 in /usr/local/lib/python3.7/dist-packages (from pytest->topicnet) (0.7.1)\n",
            "Requirement already satisfied: py>=1.5.0 in /usr/local/lib/python3.7/dist-packages (from pytest->topicnet) (1.11.0)\n",
            "Requirement already satisfied: threadpoolctl>=2.0.0 in /usr/local/lib/python3.7/dist-packages (from scikit-learn->topicnet) (3.1.0)\n",
            "Requirement already satisfied: joblib>=0.11 in /usr/local/lib/python3.7/dist-packages (from scikit-learn->topicnet) (1.1.0)\n",
            "Building wheels for collected packages: topicnet, strictyaml\n",
            "  Building wheel for topicnet (setup.py) ... \u001b[?25l\u001b[?25hdone\n",
            "  Created wheel for topicnet: filename=topicnet-0.8.0-py3-none-any.whl size=134578 sha256=c7d8a36a90518871792abded896e1ab9ca5d2101b515a8efff102663ab7c656d\n",
            "  Stored in directory: /root/.cache/pip/wheels/f9/13/72/afb22298e81a9a190b608c6f9185ee0f7b0fe0865aed9dae09\n",
            "  Building wheel for strictyaml (setup.py) ... \u001b[?25l\u001b[?25hdone\n",
            "  Created wheel for strictyaml: filename=strictyaml-1.6.1-py3-none-any.whl size=123931 sha256=89b0b1d88343938a78da34925f3765fd3ff2b2bd6a622f8289ebbf09bc4c409f\n",
            "  Stored in directory: /root/.cache/pip/wheels/3e/7f/3a/d36577e71e78a8e7f89a6a263c03dd39e3f876e74d1ebb051b\n",
            "Successfully built topicnet strictyaml\n",
            "Installing collected packages: locket, partd, fsspec, strictyaml, bigartm, topicnet\n",
            "Successfully installed bigartm-0.9.2 fsspec-2022.2.0 locket-0.2.1 partd-1.2.0 strictyaml-1.6.1 topicnet-0.8.0\n"
          ]
        }
      ]
    },
    {
      "cell_type": "code",
      "source": [
        "import topicnet\n",
        "import artm"
      ],
      "metadata": {
        "id": "O2_CAdSAsHHG"
      },
      "execution_count": 13,
      "outputs": []
    },
    {
      "cell_type": "code",
      "source": [
        "data = pd.DataFrame(pd.concat([X_train,y_train],axis=1),columns=['text','author'])\n",
        "data['id'] = data.index\n",
        "data.index.name = 'id'\n",
        "data"
      ],
      "metadata": {
        "colab": {
          "base_uri": "https://localhost:8080/",
          "height": 450
        },
        "id": "g_gKNQ-6R5Hi",
        "outputId": "0bcc7a64-8fb0-4535-878a-ba9382233dcb"
      },
      "execution_count": 14,
      "outputs": [
        {
          "output_type": "execute_result",
          "data": {
            "text/plain": [
              "                                                    text author     id\n",
              "id                                                                    \n",
              "5107                        must spoken peculiarity hair    EAP   5107\n",
              "5465   art life discovery science augmented ratio lef...    MWS   5465\n",
              "15443  idris named casually frown convulsive gesture ...    MWS  15443\n",
              "9737   time soon come grief famine already sapped fou...    MWS   9737\n",
              "10192  great stone city lyeh monolith sepulchre sunk ...    HPL  10192\n",
              "...                                                  ...    ...    ...\n",
              "11284  letting hold upon placing foot securely wall s...    EAP  11284\n",
              "11964  name john raymond legrasse profession inspecto...    HPL  11964\n",
              "5390   manner wyatt received harmless pleasantry conv...    EAP   5390\n",
              "860    first assured boundless confidence must consci...    MWS    860\n",
              "15795  thus abundantly clear gang quitted barri roule...    EAP  15795\n",
              "\n",
              "[15663 rows x 3 columns]"
            ],
            "text/html": [
              "\n",
              "  <div id=\"df-7341d85c-cc09-4d4c-aecf-f087f2f3fcaf\">\n",
              "    <div class=\"colab-df-container\">\n",
              "      <div>\n",
              "<style scoped>\n",
              "    .dataframe tbody tr th:only-of-type {\n",
              "        vertical-align: middle;\n",
              "    }\n",
              "\n",
              "    .dataframe tbody tr th {\n",
              "        vertical-align: top;\n",
              "    }\n",
              "\n",
              "    .dataframe thead th {\n",
              "        text-align: right;\n",
              "    }\n",
              "</style>\n",
              "<table border=\"1\" class=\"dataframe\">\n",
              "  <thead>\n",
              "    <tr style=\"text-align: right;\">\n",
              "      <th></th>\n",
              "      <th>text</th>\n",
              "      <th>author</th>\n",
              "      <th>id</th>\n",
              "    </tr>\n",
              "    <tr>\n",
              "      <th>id</th>\n",
              "      <th></th>\n",
              "      <th></th>\n",
              "      <th></th>\n",
              "    </tr>\n",
              "  </thead>\n",
              "  <tbody>\n",
              "    <tr>\n",
              "      <th>5107</th>\n",
              "      <td>must spoken peculiarity hair</td>\n",
              "      <td>EAP</td>\n",
              "      <td>5107</td>\n",
              "    </tr>\n",
              "    <tr>\n",
              "      <th>5465</th>\n",
              "      <td>art life discovery science augmented ratio lef...</td>\n",
              "      <td>MWS</td>\n",
              "      <td>5465</td>\n",
              "    </tr>\n",
              "    <tr>\n",
              "      <th>15443</th>\n",
              "      <td>idris named casually frown convulsive gesture ...</td>\n",
              "      <td>MWS</td>\n",
              "      <td>15443</td>\n",
              "    </tr>\n",
              "    <tr>\n",
              "      <th>9737</th>\n",
              "      <td>time soon come grief famine already sapped fou...</td>\n",
              "      <td>MWS</td>\n",
              "      <td>9737</td>\n",
              "    </tr>\n",
              "    <tr>\n",
              "      <th>10192</th>\n",
              "      <td>great stone city lyeh monolith sepulchre sunk ...</td>\n",
              "      <td>HPL</td>\n",
              "      <td>10192</td>\n",
              "    </tr>\n",
              "    <tr>\n",
              "      <th>...</th>\n",
              "      <td>...</td>\n",
              "      <td>...</td>\n",
              "      <td>...</td>\n",
              "    </tr>\n",
              "    <tr>\n",
              "      <th>11284</th>\n",
              "      <td>letting hold upon placing foot securely wall s...</td>\n",
              "      <td>EAP</td>\n",
              "      <td>11284</td>\n",
              "    </tr>\n",
              "    <tr>\n",
              "      <th>11964</th>\n",
              "      <td>name john raymond legrasse profession inspecto...</td>\n",
              "      <td>HPL</td>\n",
              "      <td>11964</td>\n",
              "    </tr>\n",
              "    <tr>\n",
              "      <th>5390</th>\n",
              "      <td>manner wyatt received harmless pleasantry conv...</td>\n",
              "      <td>EAP</td>\n",
              "      <td>5390</td>\n",
              "    </tr>\n",
              "    <tr>\n",
              "      <th>860</th>\n",
              "      <td>first assured boundless confidence must consci...</td>\n",
              "      <td>MWS</td>\n",
              "      <td>860</td>\n",
              "    </tr>\n",
              "    <tr>\n",
              "      <th>15795</th>\n",
              "      <td>thus abundantly clear gang quitted barri roule...</td>\n",
              "      <td>EAP</td>\n",
              "      <td>15795</td>\n",
              "    </tr>\n",
              "  </tbody>\n",
              "</table>\n",
              "<p>15663 rows × 3 columns</p>\n",
              "</div>\n",
              "      <button class=\"colab-df-convert\" onclick=\"convertToInteractive('df-7341d85c-cc09-4d4c-aecf-f087f2f3fcaf')\"\n",
              "              title=\"Convert this dataframe to an interactive table.\"\n",
              "              style=\"display:none;\">\n",
              "        \n",
              "  <svg xmlns=\"http://www.w3.org/2000/svg\" height=\"24px\"viewBox=\"0 0 24 24\"\n",
              "       width=\"24px\">\n",
              "    <path d=\"M0 0h24v24H0V0z\" fill=\"none\"/>\n",
              "    <path d=\"M18.56 5.44l.94 2.06.94-2.06 2.06-.94-2.06-.94-.94-2.06-.94 2.06-2.06.94zm-11 1L8.5 8.5l.94-2.06 2.06-.94-2.06-.94L8.5 2.5l-.94 2.06-2.06.94zm10 10l.94 2.06.94-2.06 2.06-.94-2.06-.94-.94-2.06-.94 2.06-2.06.94z\"/><path d=\"M17.41 7.96l-1.37-1.37c-.4-.4-.92-.59-1.43-.59-.52 0-1.04.2-1.43.59L10.3 9.45l-7.72 7.72c-.78.78-.78 2.05 0 2.83L4 21.41c.39.39.9.59 1.41.59.51 0 1.02-.2 1.41-.59l7.78-7.78 2.81-2.81c.8-.78.8-2.07 0-2.86zM5.41 20L4 18.59l7.72-7.72 1.47 1.35L5.41 20z\"/>\n",
              "  </svg>\n",
              "      </button>\n",
              "      \n",
              "  <style>\n",
              "    .colab-df-container {\n",
              "      display:flex;\n",
              "      flex-wrap:wrap;\n",
              "      gap: 12px;\n",
              "    }\n",
              "\n",
              "    .colab-df-convert {\n",
              "      background-color: #E8F0FE;\n",
              "      border: none;\n",
              "      border-radius: 50%;\n",
              "      cursor: pointer;\n",
              "      display: none;\n",
              "      fill: #1967D2;\n",
              "      height: 32px;\n",
              "      padding: 0 0 0 0;\n",
              "      width: 32px;\n",
              "    }\n",
              "\n",
              "    .colab-df-convert:hover {\n",
              "      background-color: #E2EBFA;\n",
              "      box-shadow: 0px 1px 2px rgba(60, 64, 67, 0.3), 0px 1px 3px 1px rgba(60, 64, 67, 0.15);\n",
              "      fill: #174EA6;\n",
              "    }\n",
              "\n",
              "    [theme=dark] .colab-df-convert {\n",
              "      background-color: #3B4455;\n",
              "      fill: #D2E3FC;\n",
              "    }\n",
              "\n",
              "    [theme=dark] .colab-df-convert:hover {\n",
              "      background-color: #434B5C;\n",
              "      box-shadow: 0px 1px 3px 1px rgba(0, 0, 0, 0.15);\n",
              "      filter: drop-shadow(0px 1px 2px rgba(0, 0, 0, 0.3));\n",
              "      fill: #FFFFFF;\n",
              "    }\n",
              "  </style>\n",
              "\n",
              "      <script>\n",
              "        const buttonEl =\n",
              "          document.querySelector('#df-7341d85c-cc09-4d4c-aecf-f087f2f3fcaf button.colab-df-convert');\n",
              "        buttonEl.style.display =\n",
              "          google.colab.kernel.accessAllowed ? 'block' : 'none';\n",
              "\n",
              "        async function convertToInteractive(key) {\n",
              "          const element = document.querySelector('#df-7341d85c-cc09-4d4c-aecf-f087f2f3fcaf');\n",
              "          const dataTable =\n",
              "            await google.colab.kernel.invokeFunction('convertToInteractive',\n",
              "                                                     [key], {});\n",
              "          if (!dataTable) return;\n",
              "\n",
              "          const docLinkHtml = 'Like what you see? Visit the ' +\n",
              "            '<a target=\"_blank\" href=https://colab.research.google.com/notebooks/data_table.ipynb>data table notebook</a>'\n",
              "            + ' to learn more about interactive tables.';\n",
              "          element.innerHTML = '';\n",
              "          dataTable['output_type'] = 'display_data';\n",
              "          await google.colab.output.renderOutput(dataTable, element);\n",
              "          const docLink = document.createElement('div');\n",
              "          docLink.innerHTML = docLinkHtml;\n",
              "          element.appendChild(docLink);\n",
              "        }\n",
              "      </script>\n",
              "    </div>\n",
              "  </div>\n",
              "  "
            ]
          },
          "metadata": {},
          "execution_count": 14
        }
      ]
    },
    {
      "cell_type": "code",
      "source": [
        "# nltk.download()\n",
        "\n",
        "lemmatized_text = []\n",
        "\n",
        "for text in tqdm(data['text'].values):\n",
        "    # tokens = nltk.wordpunct_tokenize(text.lower())\n",
        "    lemmatized_text.append(text.split())\n",
        "\n",
        "data['lemmatized'] = lemmatized_text\n",
        "data"
      ],
      "metadata": {
        "colab": {
          "base_uri": "https://localhost:8080/",
          "height": 467
        },
        "id": "r_yCdjee7FXD",
        "outputId": "3381c104-8984-4d94-b43f-35d0e29570fe"
      },
      "execution_count": 15,
      "outputs": [
        {
          "output_type": "stream",
          "name": "stderr",
          "text": [
            "100%|██████████| 15663/15663 [00:00<00:00, 288880.12it/s]\n"
          ]
        },
        {
          "output_type": "execute_result",
          "data": {
            "text/plain": [
              "                                                    text author     id  \\\n",
              "id                                                                       \n",
              "5107                        must spoken peculiarity hair    EAP   5107   \n",
              "5465   art life discovery science augmented ratio lef...    MWS   5465   \n",
              "15443  idris named casually frown convulsive gesture ...    MWS  15443   \n",
              "9737   time soon come grief famine already sapped fou...    MWS   9737   \n",
              "10192  great stone city lyeh monolith sepulchre sunk ...    HPL  10192   \n",
              "...                                                  ...    ...    ...   \n",
              "11284  letting hold upon placing foot securely wall s...    EAP  11284   \n",
              "11964  name john raymond legrasse profession inspecto...    HPL  11964   \n",
              "5390   manner wyatt received harmless pleasantry conv...    EAP   5390   \n",
              "860    first assured boundless confidence must consci...    MWS    860   \n",
              "15795  thus abundantly clear gang quitted barri roule...    EAP  15795   \n",
              "\n",
              "                                              lemmatized  \n",
              "id                                                        \n",
              "5107                   [must, spoken, peculiarity, hair]  \n",
              "5465   [art, life, discovery, science, augmented, rat...  \n",
              "15443  [idris, named, casually, frown, convulsive, ge...  \n",
              "9737   [time, soon, come, grief, famine, already, sap...  \n",
              "10192  [great, stone, city, lyeh, monolith, sepulchre...  \n",
              "...                                                  ...  \n",
              "11284  [letting, hold, upon, placing, foot, securely,...  \n",
              "11964  [name, john, raymond, legrasse, profession, in...  \n",
              "5390   [manner, wyatt, received, harmless, pleasantry...  \n",
              "860    [first, assured, boundless, confidence, must, ...  \n",
              "15795  [thus, abundantly, clear, gang, quitted, barri...  \n",
              "\n",
              "[15663 rows x 4 columns]"
            ],
            "text/html": [
              "\n",
              "  <div id=\"df-ea467c3b-ebb0-4a94-a453-0eea22e0ae09\">\n",
              "    <div class=\"colab-df-container\">\n",
              "      <div>\n",
              "<style scoped>\n",
              "    .dataframe tbody tr th:only-of-type {\n",
              "        vertical-align: middle;\n",
              "    }\n",
              "\n",
              "    .dataframe tbody tr th {\n",
              "        vertical-align: top;\n",
              "    }\n",
              "\n",
              "    .dataframe thead th {\n",
              "        text-align: right;\n",
              "    }\n",
              "</style>\n",
              "<table border=\"1\" class=\"dataframe\">\n",
              "  <thead>\n",
              "    <tr style=\"text-align: right;\">\n",
              "      <th></th>\n",
              "      <th>text</th>\n",
              "      <th>author</th>\n",
              "      <th>id</th>\n",
              "      <th>lemmatized</th>\n",
              "    </tr>\n",
              "    <tr>\n",
              "      <th>id</th>\n",
              "      <th></th>\n",
              "      <th></th>\n",
              "      <th></th>\n",
              "      <th></th>\n",
              "    </tr>\n",
              "  </thead>\n",
              "  <tbody>\n",
              "    <tr>\n",
              "      <th>5107</th>\n",
              "      <td>must spoken peculiarity hair</td>\n",
              "      <td>EAP</td>\n",
              "      <td>5107</td>\n",
              "      <td>[must, spoken, peculiarity, hair]</td>\n",
              "    </tr>\n",
              "    <tr>\n",
              "      <th>5465</th>\n",
              "      <td>art life discovery science augmented ratio lef...</td>\n",
              "      <td>MWS</td>\n",
              "      <td>5465</td>\n",
              "      <td>[art, life, discovery, science, augmented, rat...</td>\n",
              "    </tr>\n",
              "    <tr>\n",
              "      <th>15443</th>\n",
              "      <td>idris named casually frown convulsive gesture ...</td>\n",
              "      <td>MWS</td>\n",
              "      <td>15443</td>\n",
              "      <td>[idris, named, casually, frown, convulsive, ge...</td>\n",
              "    </tr>\n",
              "    <tr>\n",
              "      <th>9737</th>\n",
              "      <td>time soon come grief famine already sapped fou...</td>\n",
              "      <td>MWS</td>\n",
              "      <td>9737</td>\n",
              "      <td>[time, soon, come, grief, famine, already, sap...</td>\n",
              "    </tr>\n",
              "    <tr>\n",
              "      <th>10192</th>\n",
              "      <td>great stone city lyeh monolith sepulchre sunk ...</td>\n",
              "      <td>HPL</td>\n",
              "      <td>10192</td>\n",
              "      <td>[great, stone, city, lyeh, monolith, sepulchre...</td>\n",
              "    </tr>\n",
              "    <tr>\n",
              "      <th>...</th>\n",
              "      <td>...</td>\n",
              "      <td>...</td>\n",
              "      <td>...</td>\n",
              "      <td>...</td>\n",
              "    </tr>\n",
              "    <tr>\n",
              "      <th>11284</th>\n",
              "      <td>letting hold upon placing foot securely wall s...</td>\n",
              "      <td>EAP</td>\n",
              "      <td>11284</td>\n",
              "      <td>[letting, hold, upon, placing, foot, securely,...</td>\n",
              "    </tr>\n",
              "    <tr>\n",
              "      <th>11964</th>\n",
              "      <td>name john raymond legrasse profession inspecto...</td>\n",
              "      <td>HPL</td>\n",
              "      <td>11964</td>\n",
              "      <td>[name, john, raymond, legrasse, profession, in...</td>\n",
              "    </tr>\n",
              "    <tr>\n",
              "      <th>5390</th>\n",
              "      <td>manner wyatt received harmless pleasantry conv...</td>\n",
              "      <td>EAP</td>\n",
              "      <td>5390</td>\n",
              "      <td>[manner, wyatt, received, harmless, pleasantry...</td>\n",
              "    </tr>\n",
              "    <tr>\n",
              "      <th>860</th>\n",
              "      <td>first assured boundless confidence must consci...</td>\n",
              "      <td>MWS</td>\n",
              "      <td>860</td>\n",
              "      <td>[first, assured, boundless, confidence, must, ...</td>\n",
              "    </tr>\n",
              "    <tr>\n",
              "      <th>15795</th>\n",
              "      <td>thus abundantly clear gang quitted barri roule...</td>\n",
              "      <td>EAP</td>\n",
              "      <td>15795</td>\n",
              "      <td>[thus, abundantly, clear, gang, quitted, barri...</td>\n",
              "    </tr>\n",
              "  </tbody>\n",
              "</table>\n",
              "<p>15663 rows × 4 columns</p>\n",
              "</div>\n",
              "      <button class=\"colab-df-convert\" onclick=\"convertToInteractive('df-ea467c3b-ebb0-4a94-a453-0eea22e0ae09')\"\n",
              "              title=\"Convert this dataframe to an interactive table.\"\n",
              "              style=\"display:none;\">\n",
              "        \n",
              "  <svg xmlns=\"http://www.w3.org/2000/svg\" height=\"24px\"viewBox=\"0 0 24 24\"\n",
              "       width=\"24px\">\n",
              "    <path d=\"M0 0h24v24H0V0z\" fill=\"none\"/>\n",
              "    <path d=\"M18.56 5.44l.94 2.06.94-2.06 2.06-.94-2.06-.94-.94-2.06-.94 2.06-2.06.94zm-11 1L8.5 8.5l.94-2.06 2.06-.94-2.06-.94L8.5 2.5l-.94 2.06-2.06.94zm10 10l.94 2.06.94-2.06 2.06-.94-2.06-.94-.94-2.06-.94 2.06-2.06.94z\"/><path d=\"M17.41 7.96l-1.37-1.37c-.4-.4-.92-.59-1.43-.59-.52 0-1.04.2-1.43.59L10.3 9.45l-7.72 7.72c-.78.78-.78 2.05 0 2.83L4 21.41c.39.39.9.59 1.41.59.51 0 1.02-.2 1.41-.59l7.78-7.78 2.81-2.81c.8-.78.8-2.07 0-2.86zM5.41 20L4 18.59l7.72-7.72 1.47 1.35L5.41 20z\"/>\n",
              "  </svg>\n",
              "      </button>\n",
              "      \n",
              "  <style>\n",
              "    .colab-df-container {\n",
              "      display:flex;\n",
              "      flex-wrap:wrap;\n",
              "      gap: 12px;\n",
              "    }\n",
              "\n",
              "    .colab-df-convert {\n",
              "      background-color: #E8F0FE;\n",
              "      border: none;\n",
              "      border-radius: 50%;\n",
              "      cursor: pointer;\n",
              "      display: none;\n",
              "      fill: #1967D2;\n",
              "      height: 32px;\n",
              "      padding: 0 0 0 0;\n",
              "      width: 32px;\n",
              "    }\n",
              "\n",
              "    .colab-df-convert:hover {\n",
              "      background-color: #E2EBFA;\n",
              "      box-shadow: 0px 1px 2px rgba(60, 64, 67, 0.3), 0px 1px 3px 1px rgba(60, 64, 67, 0.15);\n",
              "      fill: #174EA6;\n",
              "    }\n",
              "\n",
              "    [theme=dark] .colab-df-convert {\n",
              "      background-color: #3B4455;\n",
              "      fill: #D2E3FC;\n",
              "    }\n",
              "\n",
              "    [theme=dark] .colab-df-convert:hover {\n",
              "      background-color: #434B5C;\n",
              "      box-shadow: 0px 1px 3px 1px rgba(0, 0, 0, 0.15);\n",
              "      filter: drop-shadow(0px 1px 2px rgba(0, 0, 0, 0.3));\n",
              "      fill: #FFFFFF;\n",
              "    }\n",
              "  </style>\n",
              "\n",
              "      <script>\n",
              "        const buttonEl =\n",
              "          document.querySelector('#df-ea467c3b-ebb0-4a94-a453-0eea22e0ae09 button.colab-df-convert');\n",
              "        buttonEl.style.display =\n",
              "          google.colab.kernel.accessAllowed ? 'block' : 'none';\n",
              "\n",
              "        async function convertToInteractive(key) {\n",
              "          const element = document.querySelector('#df-ea467c3b-ebb0-4a94-a453-0eea22e0ae09');\n",
              "          const dataTable =\n",
              "            await google.colab.kernel.invokeFunction('convertToInteractive',\n",
              "                                                     [key], {});\n",
              "          if (!dataTable) return;\n",
              "\n",
              "          const docLinkHtml = 'Like what you see? Visit the ' +\n",
              "            '<a target=\"_blank\" href=https://colab.research.google.com/notebooks/data_table.ipynb>data table notebook</a>'\n",
              "            + ' to learn more about interactive tables.';\n",
              "          element.innerHTML = '';\n",
              "          dataTable['output_type'] = 'display_data';\n",
              "          await google.colab.output.renderOutput(dataTable, element);\n",
              "          const docLink = document.createElement('div');\n",
              "          docLink.innerHTML = docLinkHtml;\n",
              "          element.appendChild(docLink);\n",
              "        }\n",
              "      </script>\n",
              "    </div>\n",
              "  </div>\n",
              "  "
            ]
          },
          "metadata": {},
          "execution_count": 15
        }
      ]
    },
    {
      "cell_type": "code",
      "source": [
        "from nltk.collocations import (\n",
        "    BigramAssocMeasures,\n",
        "    BigramCollocationFinder,\n",
        ")\n",
        "\n",
        "bigram_measures = BigramAssocMeasures()\n",
        "finder = BigramCollocationFinder.from_documents(data['lemmatized'])\n",
        "\n",
        "# finder.apply_freq_filter(1)\n",
        "set_dict = set(finder.nbest(bigram_measures.pmi,120000)[100:])\n",
        "documents = data['lemmatized']\n",
        "bigrams = []\n",
        "\n",
        "for doc in documents:\n",
        "    entry = ['_'.join([word_first, word_second])\n",
        "             for word_first, word_second in zip(doc[:-1],doc[1:])\n",
        "             if (word_first, word_second) in set_dict]\n",
        "    bigrams.append(entry)\n",
        "\n",
        "data['bigram'] = bigrams\n",
        "data"
      ],
      "metadata": {
        "colab": {
          "base_uri": "https://localhost:8080/",
          "height": 630
        },
        "id": "QzIRfEJ06rge",
        "outputId": "991a692c-1449-4b6b-b738-69415f04077d"
      },
      "execution_count": 16,
      "outputs": [
        {
          "output_type": "execute_result",
          "data": {
            "text/plain": [
              "                                                    text author     id  \\\n",
              "id                                                                       \n",
              "5107                        must spoken peculiarity hair    EAP   5107   \n",
              "5465   art life discovery science augmented ratio lef...    MWS   5465   \n",
              "15443  idris named casually frown convulsive gesture ...    MWS  15443   \n",
              "9737   time soon come grief famine already sapped fou...    MWS   9737   \n",
              "10192  great stone city lyeh monolith sepulchre sunk ...    HPL  10192   \n",
              "...                                                  ...    ...    ...   \n",
              "11284  letting hold upon placing foot securely wall s...    EAP  11284   \n",
              "11964  name john raymond legrasse profession inspecto...    HPL  11964   \n",
              "5390   manner wyatt received harmless pleasantry conv...    EAP   5390   \n",
              "860    first assured boundless confidence must consci...    MWS    860   \n",
              "15795  thus abundantly clear gang quitted barri roule...    EAP  15795   \n",
              "\n",
              "                                              lemmatized  \\\n",
              "id                                                         \n",
              "5107                   [must, spoken, peculiarity, hair]   \n",
              "5465   [art, life, discovery, science, augmented, rat...   \n",
              "15443  [idris, named, casually, frown, convulsive, ge...   \n",
              "9737   [time, soon, come, grief, famine, already, sap...   \n",
              "10192  [great, stone, city, lyeh, monolith, sepulchre...   \n",
              "...                                                  ...   \n",
              "11284  [letting, hold, upon, placing, foot, securely,...   \n",
              "11964  [name, john, raymond, legrasse, profession, in...   \n",
              "5390   [manner, wyatt, received, harmless, pleasantry...   \n",
              "860    [first, assured, boundless, confidence, must, ...   \n",
              "15795  [thus, abundantly, clear, gang, quitted, barri...   \n",
              "\n",
              "                                                  bigram  \n",
              "id                                                        \n",
              "5107              [spoken_peculiarity, peculiarity_hair]  \n",
              "5465   [discovery_science, science_augmented, augment...  \n",
              "15443  [idris_named, named_casually, casually_frown, ...  \n",
              "9737   [grief_famine, famine_already, already_sapped,...  \n",
              "10192  [city_lyeh, lyeh_monolith, monolith_sepulchre,...  \n",
              "...                                                  ...  \n",
              "11284  [letting_hold, placing_foot, foot_securely, se...  \n",
              "11964  [name_john, raymond_legrasse, legrasse_profess...  \n",
              "5390   [manner_wyatt, wyatt_received, received_harmle...  \n",
              "860    [assured_boundless, boundless_confidence, must...  \n",
              "15795  [thus_abundantly, abundantly_clear, clear_gang...  \n",
              "\n",
              "[15663 rows x 5 columns]"
            ],
            "text/html": [
              "\n",
              "  <div id=\"df-c026e8c2-ae6d-418a-907e-bc91bb12fe61\">\n",
              "    <div class=\"colab-df-container\">\n",
              "      <div>\n",
              "<style scoped>\n",
              "    .dataframe tbody tr th:only-of-type {\n",
              "        vertical-align: middle;\n",
              "    }\n",
              "\n",
              "    .dataframe tbody tr th {\n",
              "        vertical-align: top;\n",
              "    }\n",
              "\n",
              "    .dataframe thead th {\n",
              "        text-align: right;\n",
              "    }\n",
              "</style>\n",
              "<table border=\"1\" class=\"dataframe\">\n",
              "  <thead>\n",
              "    <tr style=\"text-align: right;\">\n",
              "      <th></th>\n",
              "      <th>text</th>\n",
              "      <th>author</th>\n",
              "      <th>id</th>\n",
              "      <th>lemmatized</th>\n",
              "      <th>bigram</th>\n",
              "    </tr>\n",
              "    <tr>\n",
              "      <th>id</th>\n",
              "      <th></th>\n",
              "      <th></th>\n",
              "      <th></th>\n",
              "      <th></th>\n",
              "      <th></th>\n",
              "    </tr>\n",
              "  </thead>\n",
              "  <tbody>\n",
              "    <tr>\n",
              "      <th>5107</th>\n",
              "      <td>must spoken peculiarity hair</td>\n",
              "      <td>EAP</td>\n",
              "      <td>5107</td>\n",
              "      <td>[must, spoken, peculiarity, hair]</td>\n",
              "      <td>[spoken_peculiarity, peculiarity_hair]</td>\n",
              "    </tr>\n",
              "    <tr>\n",
              "      <th>5465</th>\n",
              "      <td>art life discovery science augmented ratio lef...</td>\n",
              "      <td>MWS</td>\n",
              "      <td>5465</td>\n",
              "      <td>[art, life, discovery, science, augmented, rat...</td>\n",
              "      <td>[discovery_science, science_augmented, augment...</td>\n",
              "    </tr>\n",
              "    <tr>\n",
              "      <th>15443</th>\n",
              "      <td>idris named casually frown convulsive gesture ...</td>\n",
              "      <td>MWS</td>\n",
              "      <td>15443</td>\n",
              "      <td>[idris, named, casually, frown, convulsive, ge...</td>\n",
              "      <td>[idris_named, named_casually, casually_frown, ...</td>\n",
              "    </tr>\n",
              "    <tr>\n",
              "      <th>9737</th>\n",
              "      <td>time soon come grief famine already sapped fou...</td>\n",
              "      <td>MWS</td>\n",
              "      <td>9737</td>\n",
              "      <td>[time, soon, come, grief, famine, already, sap...</td>\n",
              "      <td>[grief_famine, famine_already, already_sapped,...</td>\n",
              "    </tr>\n",
              "    <tr>\n",
              "      <th>10192</th>\n",
              "      <td>great stone city lyeh monolith sepulchre sunk ...</td>\n",
              "      <td>HPL</td>\n",
              "      <td>10192</td>\n",
              "      <td>[great, stone, city, lyeh, monolith, sepulchre...</td>\n",
              "      <td>[city_lyeh, lyeh_monolith, monolith_sepulchre,...</td>\n",
              "    </tr>\n",
              "    <tr>\n",
              "      <th>...</th>\n",
              "      <td>...</td>\n",
              "      <td>...</td>\n",
              "      <td>...</td>\n",
              "      <td>...</td>\n",
              "      <td>...</td>\n",
              "    </tr>\n",
              "    <tr>\n",
              "      <th>11284</th>\n",
              "      <td>letting hold upon placing foot securely wall s...</td>\n",
              "      <td>EAP</td>\n",
              "      <td>11284</td>\n",
              "      <td>[letting, hold, upon, placing, foot, securely,...</td>\n",
              "      <td>[letting_hold, placing_foot, foot_securely, se...</td>\n",
              "    </tr>\n",
              "    <tr>\n",
              "      <th>11964</th>\n",
              "      <td>name john raymond legrasse profession inspecto...</td>\n",
              "      <td>HPL</td>\n",
              "      <td>11964</td>\n",
              "      <td>[name, john, raymond, legrasse, profession, in...</td>\n",
              "      <td>[name_john, raymond_legrasse, legrasse_profess...</td>\n",
              "    </tr>\n",
              "    <tr>\n",
              "      <th>5390</th>\n",
              "      <td>manner wyatt received harmless pleasantry conv...</td>\n",
              "      <td>EAP</td>\n",
              "      <td>5390</td>\n",
              "      <td>[manner, wyatt, received, harmless, pleasantry...</td>\n",
              "      <td>[manner_wyatt, wyatt_received, received_harmle...</td>\n",
              "    </tr>\n",
              "    <tr>\n",
              "      <th>860</th>\n",
              "      <td>first assured boundless confidence must consci...</td>\n",
              "      <td>MWS</td>\n",
              "      <td>860</td>\n",
              "      <td>[first, assured, boundless, confidence, must, ...</td>\n",
              "      <td>[assured_boundless, boundless_confidence, must...</td>\n",
              "    </tr>\n",
              "    <tr>\n",
              "      <th>15795</th>\n",
              "      <td>thus abundantly clear gang quitted barri roule...</td>\n",
              "      <td>EAP</td>\n",
              "      <td>15795</td>\n",
              "      <td>[thus, abundantly, clear, gang, quitted, barri...</td>\n",
              "      <td>[thus_abundantly, abundantly_clear, clear_gang...</td>\n",
              "    </tr>\n",
              "  </tbody>\n",
              "</table>\n",
              "<p>15663 rows × 5 columns</p>\n",
              "</div>\n",
              "      <button class=\"colab-df-convert\" onclick=\"convertToInteractive('df-c026e8c2-ae6d-418a-907e-bc91bb12fe61')\"\n",
              "              title=\"Convert this dataframe to an interactive table.\"\n",
              "              style=\"display:none;\">\n",
              "        \n",
              "  <svg xmlns=\"http://www.w3.org/2000/svg\" height=\"24px\"viewBox=\"0 0 24 24\"\n",
              "       width=\"24px\">\n",
              "    <path d=\"M0 0h24v24H0V0z\" fill=\"none\"/>\n",
              "    <path d=\"M18.56 5.44l.94 2.06.94-2.06 2.06-.94-2.06-.94-.94-2.06-.94 2.06-2.06.94zm-11 1L8.5 8.5l.94-2.06 2.06-.94-2.06-.94L8.5 2.5l-.94 2.06-2.06.94zm10 10l.94 2.06.94-2.06 2.06-.94-2.06-.94-.94-2.06-.94 2.06-2.06.94z\"/><path d=\"M17.41 7.96l-1.37-1.37c-.4-.4-.92-.59-1.43-.59-.52 0-1.04.2-1.43.59L10.3 9.45l-7.72 7.72c-.78.78-.78 2.05 0 2.83L4 21.41c.39.39.9.59 1.41.59.51 0 1.02-.2 1.41-.59l7.78-7.78 2.81-2.81c.8-.78.8-2.07 0-2.86zM5.41 20L4 18.59l7.72-7.72 1.47 1.35L5.41 20z\"/>\n",
              "  </svg>\n",
              "      </button>\n",
              "      \n",
              "  <style>\n",
              "    .colab-df-container {\n",
              "      display:flex;\n",
              "      flex-wrap:wrap;\n",
              "      gap: 12px;\n",
              "    }\n",
              "\n",
              "    .colab-df-convert {\n",
              "      background-color: #E8F0FE;\n",
              "      border: none;\n",
              "      border-radius: 50%;\n",
              "      cursor: pointer;\n",
              "      display: none;\n",
              "      fill: #1967D2;\n",
              "      height: 32px;\n",
              "      padding: 0 0 0 0;\n",
              "      width: 32px;\n",
              "    }\n",
              "\n",
              "    .colab-df-convert:hover {\n",
              "      background-color: #E2EBFA;\n",
              "      box-shadow: 0px 1px 2px rgba(60, 64, 67, 0.3), 0px 1px 3px 1px rgba(60, 64, 67, 0.15);\n",
              "      fill: #174EA6;\n",
              "    }\n",
              "\n",
              "    [theme=dark] .colab-df-convert {\n",
              "      background-color: #3B4455;\n",
              "      fill: #D2E3FC;\n",
              "    }\n",
              "\n",
              "    [theme=dark] .colab-df-convert:hover {\n",
              "      background-color: #434B5C;\n",
              "      box-shadow: 0px 1px 3px 1px rgba(0, 0, 0, 0.15);\n",
              "      filter: drop-shadow(0px 1px 2px rgba(0, 0, 0, 0.3));\n",
              "      fill: #FFFFFF;\n",
              "    }\n",
              "  </style>\n",
              "\n",
              "      <script>\n",
              "        const buttonEl =\n",
              "          document.querySelector('#df-c026e8c2-ae6d-418a-907e-bc91bb12fe61 button.colab-df-convert');\n",
              "        buttonEl.style.display =\n",
              "          google.colab.kernel.accessAllowed ? 'block' : 'none';\n",
              "\n",
              "        async function convertToInteractive(key) {\n",
              "          const element = document.querySelector('#df-c026e8c2-ae6d-418a-907e-bc91bb12fe61');\n",
              "          const dataTable =\n",
              "            await google.colab.kernel.invokeFunction('convertToInteractive',\n",
              "                                                     [key], {});\n",
              "          if (!dataTable) return;\n",
              "\n",
              "          const docLinkHtml = 'Like what you see? Visit the ' +\n",
              "            '<a target=\"_blank\" href=https://colab.research.google.com/notebooks/data_table.ipynb>data table notebook</a>'\n",
              "            + ' to learn more about interactive tables.';\n",
              "          element.innerHTML = '';\n",
              "          dataTable['output_type'] = 'display_data';\n",
              "          await google.colab.output.renderOutput(dataTable, element);\n",
              "          const docLink = document.createElement('div');\n",
              "          docLink.innerHTML = docLinkHtml;\n",
              "          element.appendChild(docLink);\n",
              "        }\n",
              "      </script>\n",
              "    </div>\n",
              "  </div>\n",
              "  "
            ]
          },
          "metadata": {},
          "execution_count": 16
        }
      ]
    },
    {
      "cell_type": "code",
      "source": [
        "def vowpalize_sequence(sequence):\n",
        "    word_2_frequency = Counter(sequence)\n",
        "\n",
        "    del word_2_frequency['']\n",
        "\n",
        "    vw_string = ''\n",
        "\n",
        "    for word in word_2_frequency:\n",
        "        vw_string += word + \":\" + str(word_2_frequency[word]) + ' '\n",
        "\n",
        "    return vw_string"
      ],
      "metadata": {
        "id": "OP9XRy6qVmfO"
      },
      "execution_count": 17,
      "outputs": []
    },
    {
      "cell_type": "code",
      "source": [
        "vw_text = []\n",
        "\n",
        "for index, d in data.iterrows():\n",
        "    vw_string = ''    \n",
        "    doc_id = 'data_id_'+str(d.id)\n",
        "    lemmatized = '@lemmatized ' + vowpalize_sequence(d.lemmatized)\n",
        "    bigram = '@bigram ' + vowpalize_sequence(d.bigram)\n",
        "    author = '@author ' + d.author\n",
        "    vw_string = ' |'.join([doc_id, lemmatized, bigram, author])\n",
        "    vw_text.append(vw_string)\n",
        "\n",
        "data['vw_text'] = vw_text\n",
        "data = data.rename(columns={'text':'raw_text'})\n",
        "data = data.astype('str')\n",
        "data[['raw_text', 'vw_text']].to_csv('/content/dataset.csv')\n",
        "\n",
        "data = data.drop(columns=['id','author','lemmatized','bigram'])\n",
        "data"
      ],
      "metadata": {
        "colab": {
          "base_uri": "https://localhost:8080/",
          "height": 450
        },
        "id": "5mygW2kNbu7S",
        "outputId": "8b224e68-c2d2-4e27-af19-fa442a39ab9a"
      },
      "execution_count": 18,
      "outputs": [
        {
          "output_type": "execute_result",
          "data": {
            "text/plain": [
              "                                                raw_text  \\\n",
              "id                                                         \n",
              "5107                        must spoken peculiarity hair   \n",
              "5465   art life discovery science augmented ratio lef...   \n",
              "15443  idris named casually frown convulsive gesture ...   \n",
              "9737   time soon come grief famine already sapped fou...   \n",
              "10192  great stone city lyeh monolith sepulchre sunk ...   \n",
              "...                                                  ...   \n",
              "11284  letting hold upon placing foot securely wall s...   \n",
              "11964  name john raymond legrasse profession inspecto...   \n",
              "5390   manner wyatt received harmless pleasantry conv...   \n",
              "860    first assured boundless confidence must consci...   \n",
              "15795  thus abundantly clear gang quitted barri roule...   \n",
              "\n",
              "                                                 vw_text  \n",
              "id                                                        \n",
              "5107   data_id_5107 |@lemmatized must:1 spoken:1 pecu...  \n",
              "5465   data_id_5465 |@lemmatized art:1 life:1 discove...  \n",
              "15443  data_id_15443 |@lemmatized idris:2 named:1 cas...  \n",
              "9737   data_id_9737 |@lemmatized time:2 soon:1 come:1...  \n",
              "10192  data_id_10192 |@lemmatized great:1 stone:1 cit...  \n",
              "...                                                  ...  \n",
              "11284  data_id_11284 |@lemmatized letting:1 hold:1 up...  \n",
              "11964  data_id_11964 |@lemmatized name:1 john:1 raymo...  \n",
              "5390   data_id_5390 |@lemmatized manner:1 wyatt:1 rec...  \n",
              "860    data_id_860 |@lemmatized first:1 assured:1 bou...  \n",
              "15795  data_id_15795 |@lemmatized thus:1 abundantly:1...  \n",
              "\n",
              "[15663 rows x 2 columns]"
            ],
            "text/html": [
              "\n",
              "  <div id=\"df-58a04875-144f-4bcc-ac3d-c405c4e4cf4c\">\n",
              "    <div class=\"colab-df-container\">\n",
              "      <div>\n",
              "<style scoped>\n",
              "    .dataframe tbody tr th:only-of-type {\n",
              "        vertical-align: middle;\n",
              "    }\n",
              "\n",
              "    .dataframe tbody tr th {\n",
              "        vertical-align: top;\n",
              "    }\n",
              "\n",
              "    .dataframe thead th {\n",
              "        text-align: right;\n",
              "    }\n",
              "</style>\n",
              "<table border=\"1\" class=\"dataframe\">\n",
              "  <thead>\n",
              "    <tr style=\"text-align: right;\">\n",
              "      <th></th>\n",
              "      <th>raw_text</th>\n",
              "      <th>vw_text</th>\n",
              "    </tr>\n",
              "    <tr>\n",
              "      <th>id</th>\n",
              "      <th></th>\n",
              "      <th></th>\n",
              "    </tr>\n",
              "  </thead>\n",
              "  <tbody>\n",
              "    <tr>\n",
              "      <th>5107</th>\n",
              "      <td>must spoken peculiarity hair</td>\n",
              "      <td>data_id_5107 |@lemmatized must:1 spoken:1 pecu...</td>\n",
              "    </tr>\n",
              "    <tr>\n",
              "      <th>5465</th>\n",
              "      <td>art life discovery science augmented ratio lef...</td>\n",
              "      <td>data_id_5465 |@lemmatized art:1 life:1 discove...</td>\n",
              "    </tr>\n",
              "    <tr>\n",
              "      <th>15443</th>\n",
              "      <td>idris named casually frown convulsive gesture ...</td>\n",
              "      <td>data_id_15443 |@lemmatized idris:2 named:1 cas...</td>\n",
              "    </tr>\n",
              "    <tr>\n",
              "      <th>9737</th>\n",
              "      <td>time soon come grief famine already sapped fou...</td>\n",
              "      <td>data_id_9737 |@lemmatized time:2 soon:1 come:1...</td>\n",
              "    </tr>\n",
              "    <tr>\n",
              "      <th>10192</th>\n",
              "      <td>great stone city lyeh monolith sepulchre sunk ...</td>\n",
              "      <td>data_id_10192 |@lemmatized great:1 stone:1 cit...</td>\n",
              "    </tr>\n",
              "    <tr>\n",
              "      <th>...</th>\n",
              "      <td>...</td>\n",
              "      <td>...</td>\n",
              "    </tr>\n",
              "    <tr>\n",
              "      <th>11284</th>\n",
              "      <td>letting hold upon placing foot securely wall s...</td>\n",
              "      <td>data_id_11284 |@lemmatized letting:1 hold:1 up...</td>\n",
              "    </tr>\n",
              "    <tr>\n",
              "      <th>11964</th>\n",
              "      <td>name john raymond legrasse profession inspecto...</td>\n",
              "      <td>data_id_11964 |@lemmatized name:1 john:1 raymo...</td>\n",
              "    </tr>\n",
              "    <tr>\n",
              "      <th>5390</th>\n",
              "      <td>manner wyatt received harmless pleasantry conv...</td>\n",
              "      <td>data_id_5390 |@lemmatized manner:1 wyatt:1 rec...</td>\n",
              "    </tr>\n",
              "    <tr>\n",
              "      <th>860</th>\n",
              "      <td>first assured boundless confidence must consci...</td>\n",
              "      <td>data_id_860 |@lemmatized first:1 assured:1 bou...</td>\n",
              "    </tr>\n",
              "    <tr>\n",
              "      <th>15795</th>\n",
              "      <td>thus abundantly clear gang quitted barri roule...</td>\n",
              "      <td>data_id_15795 |@lemmatized thus:1 abundantly:1...</td>\n",
              "    </tr>\n",
              "  </tbody>\n",
              "</table>\n",
              "<p>15663 rows × 2 columns</p>\n",
              "</div>\n",
              "      <button class=\"colab-df-convert\" onclick=\"convertToInteractive('df-58a04875-144f-4bcc-ac3d-c405c4e4cf4c')\"\n",
              "              title=\"Convert this dataframe to an interactive table.\"\n",
              "              style=\"display:none;\">\n",
              "        \n",
              "  <svg xmlns=\"http://www.w3.org/2000/svg\" height=\"24px\"viewBox=\"0 0 24 24\"\n",
              "       width=\"24px\">\n",
              "    <path d=\"M0 0h24v24H0V0z\" fill=\"none\"/>\n",
              "    <path d=\"M18.56 5.44l.94 2.06.94-2.06 2.06-.94-2.06-.94-.94-2.06-.94 2.06-2.06.94zm-11 1L8.5 8.5l.94-2.06 2.06-.94-2.06-.94L8.5 2.5l-.94 2.06-2.06.94zm10 10l.94 2.06.94-2.06 2.06-.94-2.06-.94-.94-2.06-.94 2.06-2.06.94z\"/><path d=\"M17.41 7.96l-1.37-1.37c-.4-.4-.92-.59-1.43-.59-.52 0-1.04.2-1.43.59L10.3 9.45l-7.72 7.72c-.78.78-.78 2.05 0 2.83L4 21.41c.39.39.9.59 1.41.59.51 0 1.02-.2 1.41-.59l7.78-7.78 2.81-2.81c.8-.78.8-2.07 0-2.86zM5.41 20L4 18.59l7.72-7.72 1.47 1.35L5.41 20z\"/>\n",
              "  </svg>\n",
              "      </button>\n",
              "      \n",
              "  <style>\n",
              "    .colab-df-container {\n",
              "      display:flex;\n",
              "      flex-wrap:wrap;\n",
              "      gap: 12px;\n",
              "    }\n",
              "\n",
              "    .colab-df-convert {\n",
              "      background-color: #E8F0FE;\n",
              "      border: none;\n",
              "      border-radius: 50%;\n",
              "      cursor: pointer;\n",
              "      display: none;\n",
              "      fill: #1967D2;\n",
              "      height: 32px;\n",
              "      padding: 0 0 0 0;\n",
              "      width: 32px;\n",
              "    }\n",
              "\n",
              "    .colab-df-convert:hover {\n",
              "      background-color: #E2EBFA;\n",
              "      box-shadow: 0px 1px 2px rgba(60, 64, 67, 0.3), 0px 1px 3px 1px rgba(60, 64, 67, 0.15);\n",
              "      fill: #174EA6;\n",
              "    }\n",
              "\n",
              "    [theme=dark] .colab-df-convert {\n",
              "      background-color: #3B4455;\n",
              "      fill: #D2E3FC;\n",
              "    }\n",
              "\n",
              "    [theme=dark] .colab-df-convert:hover {\n",
              "      background-color: #434B5C;\n",
              "      box-shadow: 0px 1px 3px 1px rgba(0, 0, 0, 0.15);\n",
              "      filter: drop-shadow(0px 1px 2px rgba(0, 0, 0, 0.3));\n",
              "      fill: #FFFFFF;\n",
              "    }\n",
              "  </style>\n",
              "\n",
              "      <script>\n",
              "        const buttonEl =\n",
              "          document.querySelector('#df-58a04875-144f-4bcc-ac3d-c405c4e4cf4c button.colab-df-convert');\n",
              "        buttonEl.style.display =\n",
              "          google.colab.kernel.accessAllowed ? 'block' : 'none';\n",
              "\n",
              "        async function convertToInteractive(key) {\n",
              "          const element = document.querySelector('#df-58a04875-144f-4bcc-ac3d-c405c4e4cf4c');\n",
              "          const dataTable =\n",
              "            await google.colab.kernel.invokeFunction('convertToInteractive',\n",
              "                                                     [key], {});\n",
              "          if (!dataTable) return;\n",
              "\n",
              "          const docLinkHtml = 'Like what you see? Visit the ' +\n",
              "            '<a target=\"_blank\" href=https://colab.research.google.com/notebooks/data_table.ipynb>data table notebook</a>'\n",
              "            + ' to learn more about interactive tables.';\n",
              "          element.innerHTML = '';\n",
              "          dataTable['output_type'] = 'display_data';\n",
              "          await google.colab.output.renderOutput(dataTable, element);\n",
              "          const docLink = document.createElement('div');\n",
              "          docLink.innerHTML = docLinkHtml;\n",
              "          element.appendChild(docLink);\n",
              "        }\n",
              "      </script>\n",
              "    </div>\n",
              "  </div>\n",
              "  "
            ]
          },
          "metadata": {},
          "execution_count": 18
        }
      ]
    },
    {
      "cell_type": "code",
      "source": [
        "from topicnet.cooking_machine.model_constructor import init_simple_default_model\n",
        "from topicnet.cooking_machine.dataset import Dataset\n",
        "\n",
        "# topic_data = Dataset.from_dataframe(data,save_dataset_path='/content/')\n",
        "topic_data = Dataset('/content/dataset.csv')\n",
        "artm_model = init_simple_default_model(\n",
        "    dataset=topic_data,\n",
        "    modalities_to_use={'@lemmatized': 1.0,'@bigram':0.5, },\n",
        "    main_modality='@lemmatized',\n",
        "    specific_topics=5,\n",
        "    background_topics=1,\n",
        ")"
      ],
      "metadata": {
        "colab": {
          "base_uri": "https://localhost:8080/"
        },
        "id": "VsmtDGm-R1nq",
        "outputId": "9410c9aa-9771-4816-fcf5-d7172f699896"
      },
      "execution_count": 19,
      "outputs": [
        {
          "output_type": "stream",
          "name": "stderr",
          "text": [
            "/usr/local/lib/python3.7/dist-packages/topicnet/cooking_machine/dataset.py:220: FutureWarning: The error_bad_lines argument has been deprecated and will be removed in a future version.\n",
            "\n",
            "\n",
            "  self._data = self._read_data(data_path)\n"
          ]
        }
      ]
    },
    {
      "cell_type": "code",
      "source": [
        "print(topic_data.get_possible_modalities())\n",
        "\n",
        "artm_model.class_ids"
      ],
      "metadata": {
        "colab": {
          "base_uri": "https://localhost:8080/"
        },
        "id": "U3j23zJ_B_fi",
        "outputId": "c9c81172-56c0-46b3-bcec-9e979df03aa5"
      },
      "execution_count": 20,
      "outputs": [
        {
          "output_type": "stream",
          "name": "stdout",
          "text": [
            "{'@lemmatized', '@author', '@bigram'}\n"
          ]
        },
        {
          "output_type": "execute_result",
          "data": {
            "text/plain": [
              "{'@bigram': 0.7318464449851311, '@lemmatized': 1.0}"
            ]
          },
          "metadata": {},
          "execution_count": 20
        }
      ]
    },
    {
      "cell_type": "code",
      "source": [
        "from topicnet.cooking_machine.models.topic_model import TopicModel\n",
        "\n",
        "\n",
        "topic_model = TopicModel(artm_model, model_id='Groot')"
      ],
      "metadata": {
        "id": "_j379LG1S3hx"
      },
      "execution_count": 21,
      "outputs": []
    },
    {
      "cell_type": "code",
      "source": [
        "coherence_score = artm.TopTokensScore(\n",
        "                            name='TopTokensCoherenceScore',\n",
        "                            class_id='@default_class',\n",
        "                            num_tokens=5)\n",
        "                            #topic_names=[u'topic_0',u'topic_1'],\n",
        "                            #dictionary=cooc_dict)"
      ],
      "metadata": {
        "id": "hK-c73Dei6Er"
      },
      "execution_count": 22,
      "outputs": []
    },
    {
      "cell_type": "code",
      "source": [
        "topic_model.scores.add(coherence_score)"
      ],
      "metadata": {
        "id": "ozn4M3cxkn5d"
      },
      "execution_count": 24,
      "outputs": []
    },
    {
      "cell_type": "code",
      "source": [
        "from topicnet.cooking_machine.experiment import Experiment\n",
        "\n",
        "experiment = Experiment(experiment_id=\"exp3\", save_path=\"experiments\", topic_model=topic_model)\n"
      ],
      "metadata": {
        "id": "22NQT6ojTFeD"
      },
      "execution_count": 25,
      "outputs": []
    },
    {
      "cell_type": "code",
      "source": [
        "from topicnet.cooking_machine.cubes import RegularizersModifierCube\n",
        "\n",
        "\n",
        "my_first_cube = RegularizersModifierCube(\n",
        "    num_iter=5,\n",
        "    tracked_score_function='PerplexityScore@lemmatized',\n",
        "    regularizer_parameters=[\n",
        "    {\n",
        "        'regularizer': artm.DecorrelatorPhiRegularizer(name='decorrelation_phi',class_ids='@lemmatized'),\n",
        "        'tau_grid': [0, 0.005, 0.01, 0.015, 0.02, 0.025],\n",
        "    },\n",
        "    {\n",
        "        'regularizer': artm.SmoothSparsePhiRegularizer(name='smooth_sparse_phi',class_ids='@lemmatized'),\n",
        "        'tau_grid': [-0.05, 0, 0.05],\n",
        "    }\n",
        "    ],\n",
        "    reg_search='grid',\n",
        "    verbose=True,\n",
        ")\n",
        "\n",
        "my_first_cube(topic_model, topic_data)"
      ],
      "metadata": {
        "id": "ntWJpisnTFi-",
        "colab": {
          "base_uri": "https://localhost:8080/"
        },
        "outputId": "6519fb0e-6f92-47a1-c47e-1a0a966ffc53"
      },
      "execution_count": 26,
      "outputs": [
        {
          "output_type": "stream",
          "name": "stderr",
          "text": [
            "100%|██████████| 18/18 [04:26<00:00, 14.81s/it]\n",
            "  0%|          | 0/18 [05:18<?, ?it/s]\n"
          ]
        },
        {
          "output_type": "execute_result",
          "data": {
            "text/plain": [
              "[Model(id=--06h04m21s_31d03m2022y---, parent_id=-----------root-----------, experiment_id=exp3),\n",
              " Model(id=--06h04m35s_31d03m2022y---, parent_id=-----------root-----------, experiment_id=exp3),\n",
              " Model(id=--06h04m50s_31d03m2022y---, parent_id=-----------root-----------, experiment_id=exp3),\n",
              " Model(id=--06h05m04s_31d03m2022y---, parent_id=-----------root-----------, experiment_id=exp3),\n",
              " Model(id=--06h05m18s_31d03m2022y---, parent_id=-----------root-----------, experiment_id=exp3),\n",
              " Model(id=--06h05m31s_31d03m2022y---, parent_id=-----------root-----------, experiment_id=exp3),\n",
              " Model(id=--06h05m47s_31d03m2022y---, parent_id=-----------root-----------, experiment_id=exp3),\n",
              " Model(id=--06h06m01s_31d03m2022y---, parent_id=-----------root-----------, experiment_id=exp3),\n",
              " Model(id=--06h06m15s_31d03m2022y---, parent_id=-----------root-----------, experiment_id=exp3),\n",
              " Model(id=--06h06m29s_31d03m2022y---, parent_id=-----------root-----------, experiment_id=exp3),\n",
              " Model(id=--06h06m43s_31d03m2022y---, parent_id=-----------root-----------, experiment_id=exp3),\n",
              " Model(id=--06h06m57s_31d03m2022y---, parent_id=-----------root-----------, experiment_id=exp3),\n",
              " Model(id=--06h07m10s_31d03m2022y---, parent_id=-----------root-----------, experiment_id=exp3),\n",
              " Model(id=--06h07m24s_31d03m2022y---, parent_id=-----------root-----------, experiment_id=exp3),\n",
              " Model(id=--06h07m38s_31d03m2022y---, parent_id=-----------root-----------, experiment_id=exp3),\n",
              " Model(id=--06h07m52s_31d03m2022y---, parent_id=-----------root-----------, experiment_id=exp3),\n",
              " Model(id=--06h08m07s_31d03m2022y---, parent_id=-----------root-----------, experiment_id=exp3),\n",
              " Model(id=--06h08m34s_31d03m2022y---, parent_id=-----------root-----------, experiment_id=exp3)]"
            ]
          },
          "metadata": {},
          "execution_count": 26
        }
      ]
    },
    {
      "cell_type": "code",
      "source": [
        "experiment.show()\n"
      ],
      "metadata": {
        "colab": {
          "base_uri": "https://localhost:8080/"
        },
        "id": "bWuu-Exff2Vc",
        "outputId": "59efe58d-ce5e-482f-c2f6-4b03e14fafe0"
      },
      "execution_count": 29,
      "outputs": [
        {
          "output_type": "stream",
          "name": "stdout",
          "text": [
            "Experiment exp3\n",
            "\n",
            "Experiment was made with BigARTM 0.9.2\n",
            "Tree:\n",
            "                               ┌--06h04m21s_31d03m2022y---\n",
            "                               ├--06h04m35s_31d03m2022y---\n",
            "                               ├--06h04m50s_31d03m2022y---\n",
            "                               ├--06h05m04s_31d03m2022y---\n",
            "                               ├--06h05m18s_31d03m2022y---\n",
            "                               ├--06h05m31s_31d03m2022y---\n",
            "                               ├--06h05m47s_31d03m2022y---\n",
            "                               ├--06h06m01s_31d03m2022y---\n",
            "                               ├--06h06m15s_31d03m2022y---\n",
            "-----------root-----------─────┤\n",
            "                               ├--06h06m29s_31d03m2022y---\n",
            "                               ├--06h06m43s_31d03m2022y---\n",
            "                               ├--06h06m57s_31d03m2022y---\n",
            "                               ├--06h07m10s_31d03m2022y---\n",
            "                               ├--06h07m24s_31d03m2022y---\n",
            "                               ├--06h07m38s_31d03m2022y---\n",
            "                               ├--06h07m52s_31d03m2022y---\n",
            "                               ├--06h08m07s_31d03m2022y---\n",
            "                               └--06h08m34s_31d03m2022y---\n",
            "Cubes:\n",
            " START                         | REG_MODIFIER              \n",
            "                               |                           \n",
            " name:                         | tau_grid:                 \n",
            "   ARTM                        |   0,                      \n",
            " num_processors:               |   0.005,                  \n",
            "   None                        |   ...,                    \n",
            " num_topics:                   |   0.02,                   \n",
            "   6                           |   0.025                   \n",
            " topic_names:                  | regularizer:              \n",
            "   topic_0,                    |   name=decorrelation_phi, \n",
            "   topic_1,                    |   class_ids=[@lemmatized],\n",
            "   ...,                        |   topic_names=[],         \n",
            "   topic_4,                    |   tau=1.0                 \n",
            "   background_5                |    +                      \n",
            " class_ids:                    | tau_grid:                 \n",
            "   @lemmatized=1.0,            |   -0.05,                  \n",
            "   @bigram=0.7318464449851311  |   0,                      \n",
            " seed:                         |   0.05                    \n",
            "   -1                          | regularizer:              \n",
            " library_version:              |   name=smooth_sparse_phi, \n",
            "   0.9.2                       |   class_ids=[@lemmatized],\n",
            "                               |   topic_names=[],         \n",
            "                               |   dictionary=,            \n",
            "                               |   tau=1.0                 \n",
            "                               |                           \n",
            "───────────────────────────────+────────────────────────────+──────────────────────────\n",
            "                               |                           \n"
          ]
        }
      ]
    },
    {
      "cell_type": "code",
      "execution_count": 30,
      "metadata": {
        "id": "IGkD9YaxDMVd"
      },
      "outputs": [],
      "source": [
        "perplexity_criterion = 'PerplexityScore@lemmatized -> min COLLECT 1'\n",
        "best_model = experiment.select(perplexity_criterion)[0]"
      ]
    },
    {
      "cell_type": "code",
      "source": [
        "from topicnet.viewers import TopTokensViewer\n",
        "\n",
        "\n",
        "toptok_viewer = TopTokensViewer(best_model, num_top_tokens=5, method='phi')\n",
        "toptok_viewer.view_from_jupyter()"
      ],
      "metadata": {
        "colab": {
          "base_uri": "https://localhost:8080/",
          "height": 911
        },
        "id": "3jHEN1dKlkSJ",
        "outputId": "e566a1ca-0452-448e-9a4c-01e120a35dbf"
      },
      "execution_count": 31,
      "outputs": [
        {
          "output_type": "display_data",
          "data": {
            "text/plain": [
              "<IPython.core.display.HTML object>"
            ],
            "text/html": [
              "<style>\n",
              "    div.output_html {\n",
              "        white-space: nowrap;\n",
              "    }\n",
              "    div .output_subarea > pre {\n",
              "        white-space: pre;\n",
              "        word-wrap: normal;\n",
              "    }\n",
              "    div .output_stdout > pre {\n",
              "        white-space: pre-wrap !important;\n",
              "        word-wrap:  break-word !important;\n",
              "    }\n",
              "    </style>"
            ]
          },
          "metadata": {}
        },
        {
          "output_type": "display_data",
          "data": {
            "text/html": [
              "<style type=\"text/css\">\n",
              "</style>\n",
              "<table id=\"T_9b850_\" style='display:inline'>\n",
              "  <thead>\n",
              "    <tr>\n",
              "      <th class=\"blank\" >&nbsp;</th>\n",
              "      <th class=\"blank level0\" >&nbsp;</th>\n",
              "      <th class=\"col_heading level0 col0\" >topic_0</th>\n",
              "    </tr>\n",
              "    <tr>\n",
              "      <th class=\"index_name level0\" >modality</th>\n",
              "      <th class=\"index_name level1\" >token</th>\n",
              "      <th class=\"blank col0\" >&nbsp;</th>\n",
              "    </tr>\n",
              "  </thead>\n",
              "  <tbody>\n",
              "    <tr>\n",
              "      <th id=\"T_9b850_level0_row0\" class=\"row_heading level0 row0\" rowspan=\"5\">@bigram</th>\n",
              "      <th id=\"T_9b850_level1_row0\" class=\"row_heading level1 row0\" >three_day</th>\n",
              "      <td id=\"T_9b850_row0_col0\" class=\"data row0 col0\" >0.000510</td>\n",
              "    </tr>\n",
              "    <tr>\n",
              "      <th id=\"T_9b850_level1_row1\" class=\"row_heading level1 row1\" >several_hour</th>\n",
              "      <td id=\"T_9b850_row1_col0\" class=\"data row1 col0\" >0.000490</td>\n",
              "    </tr>\n",
              "    <tr>\n",
              "      <th id=\"T_9b850_level1_row2\" class=\"row_heading level1 row2\" >tempest_mountain</th>\n",
              "      <td id=\"T_9b850_row2_col0\" class=\"data row2 col0\" >0.000430</td>\n",
              "    </tr>\n",
              "    <tr>\n",
              "      <th id=\"T_9b850_level1_row3\" class=\"row_heading level1 row3\" >madame_lalande</th>\n",
              "      <td id=\"T_9b850_row3_col0\" class=\"data row3 col0\" >0.000420</td>\n",
              "    </tr>\n",
              "    <tr>\n",
              "      <th id=\"T_9b850_level1_row4\" class=\"row_heading level1 row4\" >four_foot</th>\n",
              "      <td id=\"T_9b850_row4_col0\" class=\"data row4 col0\" >0.000340</td>\n",
              "    </tr>\n",
              "  </tbody>\n",
              "</table>\n",
              "<style type=\"text/css\">\n",
              "</style>\n",
              "<table id=\"T_31b2f_\" style='display:inline'>\n",
              "  <thead>\n",
              "    <tr>\n",
              "      <th class=\"blank\" >&nbsp;</th>\n",
              "      <th class=\"blank level0\" >&nbsp;</th>\n",
              "      <th class=\"col_heading level0 col0\" >topic_0</th>\n",
              "    </tr>\n",
              "    <tr>\n",
              "      <th class=\"index_name level0\" >modality</th>\n",
              "      <th class=\"index_name level1\" >token</th>\n",
              "      <th class=\"blank col0\" >&nbsp;</th>\n",
              "    </tr>\n",
              "  </thead>\n",
              "  <tbody>\n",
              "    <tr>\n",
              "      <th id=\"T_31b2f_level0_row0\" class=\"row_heading level0 row0\" rowspan=\"5\">@lemmatized</th>\n",
              "      <th id=\"T_31b2f_level1_row0\" class=\"row_heading level1 row0\" >would</th>\n",
              "      <td id=\"T_31b2f_row0_col0\" class=\"data row0 col0\" >0.010340</td>\n",
              "    </tr>\n",
              "    <tr>\n",
              "      <th id=\"T_31b2f_level1_row1\" class=\"row_heading level1 row1\" >time</th>\n",
              "      <td id=\"T_31b2f_row1_col0\" class=\"data row1 col0\" >0.005690</td>\n",
              "    </tr>\n",
              "    <tr>\n",
              "      <th id=\"T_31b2f_level1_row2\" class=\"row_heading level1 row2\" >little</th>\n",
              "      <td id=\"T_31b2f_row2_col0\" class=\"data row2 col0\" >0.005060</td>\n",
              "    </tr>\n",
              "    <tr>\n",
              "      <th id=\"T_31b2f_level1_row3\" class=\"row_heading level1 row3\" >said</th>\n",
              "      <td id=\"T_31b2f_row3_col0\" class=\"data row3 col0\" >0.004880</td>\n",
              "    </tr>\n",
              "    <tr>\n",
              "      <th id=\"T_31b2f_level1_row4\" class=\"row_heading level1 row4\" >could</th>\n",
              "      <td id=\"T_31b2f_row4_col0\" class=\"data row4 col0\" >0.003810</td>\n",
              "    </tr>\n",
              "  </tbody>\n",
              "</table>\n",
              "</br><style type=\"text/css\">\n",
              "</style>\n",
              "<table id=\"T_78dfc_\" style='display:inline'>\n",
              "  <thead>\n",
              "    <tr>\n",
              "      <th class=\"blank\" >&nbsp;</th>\n",
              "      <th class=\"blank level0\" >&nbsp;</th>\n",
              "      <th class=\"col_heading level0 col0\" >topic_1</th>\n",
              "    </tr>\n",
              "    <tr>\n",
              "      <th class=\"index_name level0\" >modality</th>\n",
              "      <th class=\"index_name level1\" >token</th>\n",
              "      <th class=\"blank col0\" >&nbsp;</th>\n",
              "    </tr>\n",
              "  </thead>\n",
              "  <tbody>\n",
              "    <tr>\n",
              "      <th id=\"T_78dfc_level0_row0\" class=\"row_heading level0 row0\" rowspan=\"5\">@bigram</th>\n",
              "      <th id=\"T_78dfc_level1_row0\" class=\"row_heading level1 row0\" >main_compartment</th>\n",
              "      <td id=\"T_78dfc_row0_col0\" class=\"data row0 col0\" >0.000820</td>\n",
              "    </tr>\n",
              "    <tr>\n",
              "      <th id=\"T_78dfc_level1_row1\" class=\"row_heading level1 row1\" >said_dupin</th>\n",
              "      <td id=\"T_78dfc_row1_col0\" class=\"data row1 col0\" >0.000640</td>\n",
              "    </tr>\n",
              "    <tr>\n",
              "      <th id=\"T_78dfc_level1_row2\" class=\"row_heading level1 row2\" >twenty_four</th>\n",
              "      <td id=\"T_78dfc_row2_col0\" class=\"data row2 col0\" >0.000480</td>\n",
              "    </tr>\n",
              "    <tr>\n",
              "      <th id=\"T_78dfc_level1_row3\" class=\"row_heading level1 row3\" >right_angle</th>\n",
              "      <td id=\"T_78dfc_row3_col0\" class=\"data row3 col0\" >0.000450</td>\n",
              "    </tr>\n",
              "    <tr>\n",
              "      <th id=\"T_78dfc_level1_row4\" class=\"row_heading level1 row4\" >back_door</th>\n",
              "      <td id=\"T_78dfc_row4_col0\" class=\"data row4 col0\" >0.000420</td>\n",
              "    </tr>\n",
              "  </tbody>\n",
              "</table>\n",
              "<style type=\"text/css\">\n",
              "</style>\n",
              "<table id=\"T_ee029_\" style='display:inline'>\n",
              "  <thead>\n",
              "    <tr>\n",
              "      <th class=\"blank\" >&nbsp;</th>\n",
              "      <th class=\"blank level0\" >&nbsp;</th>\n",
              "      <th class=\"col_heading level0 col0\" >topic_1</th>\n",
              "    </tr>\n",
              "    <tr>\n",
              "      <th class=\"index_name level0\" >modality</th>\n",
              "      <th class=\"index_name level1\" >token</th>\n",
              "      <th class=\"blank col0\" >&nbsp;</th>\n",
              "    </tr>\n",
              "  </thead>\n",
              "  <tbody>\n",
              "    <tr>\n",
              "      <th id=\"T_ee029_level0_row0\" class=\"row_heading level0 row0\" rowspan=\"5\">@lemmatized</th>\n",
              "      <th id=\"T_ee029_level1_row0\" class=\"row_heading level1 row0\" >upon</th>\n",
              "      <td id=\"T_ee029_row0_col0\" class=\"data row0 col0\" >0.007600</td>\n",
              "    </tr>\n",
              "    <tr>\n",
              "      <th id=\"T_ee029_level1_row1\" class=\"row_heading level1 row1\" >might</th>\n",
              "      <td id=\"T_ee029_row1_col0\" class=\"data row1 col0\" >0.005130</td>\n",
              "    </tr>\n",
              "    <tr>\n",
              "      <th id=\"T_ee029_level1_row2\" class=\"row_heading level1 row2\" >friend</th>\n",
              "      <td id=\"T_ee029_row2_col0\" class=\"data row2 col0\" >0.004910</td>\n",
              "    </tr>\n",
              "    <tr>\n",
              "      <th id=\"T_ee029_level1_row3\" class=\"row_heading level1 row3\" >house</th>\n",
              "      <td id=\"T_ee029_row3_col0\" class=\"data row3 col0\" >0.004650</td>\n",
              "    </tr>\n",
              "    <tr>\n",
              "      <th id=\"T_ee029_level1_row4\" class=\"row_heading level1 row4\" >time</th>\n",
              "      <td id=\"T_ee029_row4_col0\" class=\"data row4 col0\" >0.004330</td>\n",
              "    </tr>\n",
              "  </tbody>\n",
              "</table>\n",
              "</br><style type=\"text/css\">\n",
              "</style>\n",
              "<table id=\"T_8ed73_\" style='display:inline'>\n",
              "  <thead>\n",
              "    <tr>\n",
              "      <th class=\"blank\" >&nbsp;</th>\n",
              "      <th class=\"blank level0\" >&nbsp;</th>\n",
              "      <th class=\"col_heading level0 col0\" >topic_2</th>\n",
              "    </tr>\n",
              "    <tr>\n",
              "      <th class=\"index_name level0\" >modality</th>\n",
              "      <th class=\"index_name level1\" >token</th>\n",
              "      <th class=\"blank col0\" >&nbsp;</th>\n",
              "    </tr>\n",
              "  </thead>\n",
              "  <tbody>\n",
              "    <tr>\n",
              "      <th id=\"T_8ed73_level0_row0\" class=\"row_heading level0 row0\" rowspan=\"5\">@bigram</th>\n",
              "      <th id=\"T_8ed73_level1_row0\" class=\"row_heading level1 row0\" >well_known</th>\n",
              "      <td id=\"T_8ed73_row0_col0\" class=\"data row0 col0\" >0.000730</td>\n",
              "    </tr>\n",
              "    <tr>\n",
              "      <th id=\"T_8ed73_level1_row1\" class=\"row_heading level1 row1\" >beyond_doubt</th>\n",
              "      <td id=\"T_8ed73_row1_col0\" class=\"data row1 col0\" >0.000650</td>\n",
              "    </tr>\n",
              "    <tr>\n",
              "      <th id=\"T_8ed73_level1_row2\" class=\"row_heading level1 row2\" >lord_raymond</th>\n",
              "      <td id=\"T_8ed73_row2_col0\" class=\"data row2 col0\" >0.000520</td>\n",
              "    </tr>\n",
              "    <tr>\n",
              "      <th id=\"T_8ed73_level1_row3\" class=\"row_heading level1 row3\" >took_place</th>\n",
              "      <td id=\"T_8ed73_row3_col0\" class=\"data row3 col0\" >0.000480</td>\n",
              "    </tr>\n",
              "    <tr>\n",
              "      <th id=\"T_8ed73_level1_row4\" class=\"row_heading level1 row4\" >five_minute</th>\n",
              "      <td id=\"T_8ed73_row4_col0\" class=\"data row4 col0\" >0.000370</td>\n",
              "    </tr>\n",
              "  </tbody>\n",
              "</table>\n",
              "<style type=\"text/css\">\n",
              "</style>\n",
              "<table id=\"T_6c345_\" style='display:inline'>\n",
              "  <thead>\n",
              "    <tr>\n",
              "      <th class=\"blank\" >&nbsp;</th>\n",
              "      <th class=\"blank level0\" >&nbsp;</th>\n",
              "      <th class=\"col_heading level0 col0\" >topic_2</th>\n",
              "    </tr>\n",
              "    <tr>\n",
              "      <th class=\"index_name level0\" >modality</th>\n",
              "      <th class=\"index_name level1\" >token</th>\n",
              "      <th class=\"blank col0\" >&nbsp;</th>\n",
              "    </tr>\n",
              "  </thead>\n",
              "  <tbody>\n",
              "    <tr>\n",
              "      <th id=\"T_6c345_level0_row0\" class=\"row_heading level0 row0\" rowspan=\"5\">@lemmatized</th>\n",
              "      <th id=\"T_6c345_level1_row0\" class=\"row_heading level1 row0\" >upon</th>\n",
              "      <td id=\"T_6c345_row0_col0\" class=\"data row0 col0\" >0.007020</td>\n",
              "    </tr>\n",
              "    <tr>\n",
              "      <th id=\"T_6c345_level1_row1\" class=\"row_heading level1 row1\" >must</th>\n",
              "      <td id=\"T_6c345_row1_col0\" class=\"data row1 col0\" >0.005440</td>\n",
              "    </tr>\n",
              "    <tr>\n",
              "      <th id=\"T_6c345_level1_row2\" class=\"row_heading level1 row2\" >first</th>\n",
              "      <td id=\"T_6c345_row2_col0\" class=\"data row2 col0\" >0.005360</td>\n",
              "    </tr>\n",
              "    <tr>\n",
              "      <th id=\"T_6c345_level1_row3\" class=\"row_heading level1 row3\" >could</th>\n",
              "      <td id=\"T_6c345_row3_col0\" class=\"data row3 col0\" >0.005050</td>\n",
              "    </tr>\n",
              "    <tr>\n",
              "      <th id=\"T_6c345_level1_row4\" class=\"row_heading level1 row4\" >night</th>\n",
              "      <td id=\"T_6c345_row4_col0\" class=\"data row4 col0\" >0.004270</td>\n",
              "    </tr>\n",
              "  </tbody>\n",
              "</table>\n",
              "</br><style type=\"text/css\">\n",
              "</style>\n",
              "<table id=\"T_e062a_\" style='display:inline'>\n",
              "  <thead>\n",
              "    <tr>\n",
              "      <th class=\"blank\" >&nbsp;</th>\n",
              "      <th class=\"blank level0\" >&nbsp;</th>\n",
              "      <th class=\"col_heading level0 col0\" >topic_3</th>\n",
              "    </tr>\n",
              "    <tr>\n",
              "      <th class=\"index_name level0\" >modality</th>\n",
              "      <th class=\"index_name level1\" >token</th>\n",
              "      <th class=\"blank col0\" >&nbsp;</th>\n",
              "    </tr>\n",
              "  </thead>\n",
              "  <tbody>\n",
              "    <tr>\n",
              "      <th id=\"T_e062a_level0_row0\" class=\"row_heading level0 row0\" rowspan=\"5\">@bigram</th>\n",
              "      <th id=\"T_e062a_level1_row0\" class=\"row_heading level1 row0\" >never_seen</th>\n",
              "      <td id=\"T_e062a_row0_col0\" class=\"data row0 col0\" >0.000600</td>\n",
              "    </tr>\n",
              "    <tr>\n",
              "      <th id=\"T_e062a_level1_row1\" class=\"row_heading level1 row1\" >state_room</th>\n",
              "      <td id=\"T_e062a_row1_col0\" class=\"data row1 col0\" >0.000580</td>\n",
              "    </tr>\n",
              "    <tr>\n",
              "      <th id=\"T_e062a_level1_row2\" class=\"row_heading level1 row2\" >ourang_outang</th>\n",
              "      <td id=\"T_e062a_row2_col0\" class=\"data row2 col0\" >0.000460</td>\n",
              "    </tr>\n",
              "    <tr>\n",
              "      <th id=\"T_e062a_level1_row3\" class=\"row_heading level1 row3\" >many_year</th>\n",
              "      <td id=\"T_e062a_row3_col0\" class=\"data row3 col0\" >0.000420</td>\n",
              "    </tr>\n",
              "    <tr>\n",
              "      <th id=\"T_e062a_level1_row4\" class=\"row_heading level1 row4\" >short_time</th>\n",
              "      <td id=\"T_e062a_row4_col0\" class=\"data row4 col0\" >0.000390</td>\n",
              "    </tr>\n",
              "  </tbody>\n",
              "</table>\n",
              "<style type=\"text/css\">\n",
              "</style>\n",
              "<table id=\"T_1cbea_\" style='display:inline'>\n",
              "  <thead>\n",
              "    <tr>\n",
              "      <th class=\"blank\" >&nbsp;</th>\n",
              "      <th class=\"blank level0\" >&nbsp;</th>\n",
              "      <th class=\"col_heading level0 col0\" >topic_3</th>\n",
              "    </tr>\n",
              "    <tr>\n",
              "      <th class=\"index_name level0\" >modality</th>\n",
              "      <th class=\"index_name level1\" >token</th>\n",
              "      <th class=\"blank col0\" >&nbsp;</th>\n",
              "    </tr>\n",
              "  </thead>\n",
              "  <tbody>\n",
              "    <tr>\n",
              "      <th id=\"T_1cbea_level0_row0\" class=\"row_heading level0 row0\" rowspan=\"5\">@lemmatized</th>\n",
              "      <th id=\"T_1cbea_level1_row0\" class=\"row_heading level1 row0\" >could</th>\n",
              "      <td id=\"T_1cbea_row0_col0\" class=\"data row0 col0\" >0.007210</td>\n",
              "    </tr>\n",
              "    <tr>\n",
              "      <th id=\"T_1cbea_level1_row1\" class=\"row_heading level1 row1\" >would</th>\n",
              "      <td id=\"T_1cbea_row1_col0\" class=\"data row1 col0\" >0.006630</td>\n",
              "    </tr>\n",
              "    <tr>\n",
              "      <th id=\"T_1cbea_level1_row2\" class=\"row_heading level1 row2\" >never</th>\n",
              "      <td id=\"T_1cbea_row2_col0\" class=\"data row2 col0\" >0.006200</td>\n",
              "    </tr>\n",
              "    <tr>\n",
              "      <th id=\"T_1cbea_level1_row3\" class=\"row_heading level1 row3\" >upon</th>\n",
              "      <td id=\"T_1cbea_row3_col0\" class=\"data row3 col0\" >0.005860</td>\n",
              "    </tr>\n",
              "    <tr>\n",
              "      <th id=\"T_1cbea_level1_row4\" class=\"row_heading level1 row4\" >death</th>\n",
              "      <td id=\"T_1cbea_row4_col0\" class=\"data row4 col0\" >0.005780</td>\n",
              "    </tr>\n",
              "  </tbody>\n",
              "</table>\n",
              "</br><style type=\"text/css\">\n",
              "</style>\n",
              "<table id=\"T_0293d_\" style='display:inline'>\n",
              "  <thead>\n",
              "    <tr>\n",
              "      <th class=\"blank\" >&nbsp;</th>\n",
              "      <th class=\"blank level0\" >&nbsp;</th>\n",
              "      <th class=\"col_heading level0 col0\" >topic_4</th>\n",
              "    </tr>\n",
              "    <tr>\n",
              "      <th class=\"index_name level0\" >modality</th>\n",
              "      <th class=\"index_name level1\" >token</th>\n",
              "      <th class=\"blank col0\" >&nbsp;</th>\n",
              "    </tr>\n",
              "  </thead>\n",
              "  <tbody>\n",
              "    <tr>\n",
              "      <th id=\"T_0293d_level0_row0\" class=\"row_heading level0 row0\" rowspan=\"5\">@bigram</th>\n",
              "      <th id=\"T_0293d_level1_row0\" class=\"row_heading level1 row0\" >louder_louder</th>\n",
              "      <td id=\"T_0293d_row0_col0\" class=\"data row0 col0\" >0.000500</td>\n",
              "    </tr>\n",
              "    <tr>\n",
              "      <th id=\"T_0293d_level1_row1\" class=\"row_heading level1 row1\" >next_morning</th>\n",
              "      <td id=\"T_0293d_row1_col0\" class=\"data row1 col0\" >0.000390</td>\n",
              "    </tr>\n",
              "    <tr>\n",
              "      <th id=\"T_0293d_level1_row2\" class=\"row_heading level1 row2\" >lord_protector</th>\n",
              "      <td id=\"T_0293d_row2_col0\" class=\"data row2 col0\" >0.000310</td>\n",
              "    </tr>\n",
              "    <tr>\n",
              "      <th id=\"T_0293d_level1_row3\" class=\"row_heading level1 row3\" >right_hand</th>\n",
              "      <td id=\"T_0293d_row3_col0\" class=\"data row3 col0\" >0.000310</td>\n",
              "    </tr>\n",
              "    <tr>\n",
              "      <th id=\"T_0293d_level1_row4\" class=\"row_heading level1 row4\" >window_looked</th>\n",
              "      <td id=\"T_0293d_row4_col0\" class=\"data row4 col0\" >0.000280</td>\n",
              "    </tr>\n",
              "  </tbody>\n",
              "</table>\n",
              "<style type=\"text/css\">\n",
              "</style>\n",
              "<table id=\"T_ccd33_\" style='display:inline'>\n",
              "  <thead>\n",
              "    <tr>\n",
              "      <th class=\"blank\" >&nbsp;</th>\n",
              "      <th class=\"blank level0\" >&nbsp;</th>\n",
              "      <th class=\"col_heading level0 col0\" >topic_4</th>\n",
              "    </tr>\n",
              "    <tr>\n",
              "      <th class=\"index_name level0\" >modality</th>\n",
              "      <th class=\"index_name level1\" >token</th>\n",
              "      <th class=\"blank col0\" >&nbsp;</th>\n",
              "    </tr>\n",
              "  </thead>\n",
              "  <tbody>\n",
              "    <tr>\n",
              "      <th id=\"T_ccd33_level0_row0\" class=\"row_heading level0 row0\" rowspan=\"5\">@lemmatized</th>\n",
              "      <th id=\"T_ccd33_level1_row0\" class=\"row_heading level1 row0\" >could</th>\n",
              "      <td id=\"T_ccd33_row0_col0\" class=\"data row0 col0\" >0.007120</td>\n",
              "    </tr>\n",
              "    <tr>\n",
              "      <th id=\"T_ccd33_level1_row1\" class=\"row_heading level1 row1\" >thing</th>\n",
              "      <td id=\"T_ccd33_row1_col0\" class=\"data row1 col0\" >0.005660</td>\n",
              "    </tr>\n",
              "    <tr>\n",
              "      <th id=\"T_ccd33_level1_row2\" class=\"row_heading level1 row2\" >still</th>\n",
              "      <td id=\"T_ccd33_row2_col0\" class=\"data row2 col0\" >0.005270</td>\n",
              "    </tr>\n",
              "    <tr>\n",
              "      <th id=\"T_ccd33_level1_row3\" class=\"row_heading level1 row3\" >came</th>\n",
              "      <td id=\"T_ccd33_row3_col0\" class=\"data row3 col0\" >0.004970</td>\n",
              "    </tr>\n",
              "    <tr>\n",
              "      <th id=\"T_ccd33_level1_row4\" class=\"row_heading level1 row4\" >many</th>\n",
              "      <td id=\"T_ccd33_row4_col0\" class=\"data row4 col0\" >0.004670</td>\n",
              "    </tr>\n",
              "  </tbody>\n",
              "</table>\n",
              "</br><style type=\"text/css\">\n",
              "</style>\n",
              "<table id=\"T_e7ad1_\" style='display:inline'>\n",
              "  <thead>\n",
              "    <tr>\n",
              "      <th class=\"blank\" >&nbsp;</th>\n",
              "      <th class=\"blank level0\" >&nbsp;</th>\n",
              "      <th class=\"col_heading level0 col0\" >background_5</th>\n",
              "    </tr>\n",
              "    <tr>\n",
              "      <th class=\"index_name level0\" >modality</th>\n",
              "      <th class=\"index_name level1\" >token</th>\n",
              "      <th class=\"blank col0\" >&nbsp;</th>\n",
              "    </tr>\n",
              "  </thead>\n",
              "  <tbody>\n",
              "    <tr>\n",
              "      <th id=\"T_e7ad1_level0_row0\" class=\"row_heading level0 row0\" rowspan=\"5\">@bigram</th>\n",
              "      <th id=\"T_e7ad1_level1_row0\" class=\"row_heading level1 row0\" >many_month</th>\n",
              "      <td id=\"T_e7ad1_row0_col0\" class=\"data row0 col0\" >0.000380</td>\n",
              "    </tr>\n",
              "    <tr>\n",
              "      <th id=\"T_e7ad1_level1_row1\" class=\"row_heading level1 row1\" >ever_since</th>\n",
              "      <td id=\"T_e7ad1_row1_col0\" class=\"data row1 col0\" >0.000350</td>\n",
              "    </tr>\n",
              "    <tr>\n",
              "      <th id=\"T_e7ad1_level1_row2\" class=\"row_heading level1 row2\" >three_year</th>\n",
              "      <td id=\"T_e7ad1_row2_col0\" class=\"data row2 col0\" >0.000350</td>\n",
              "    </tr>\n",
              "    <tr>\n",
              "      <th id=\"T_e7ad1_level1_row3\" class=\"row_heading level1 row3\" >time_space</th>\n",
              "      <td id=\"T_e7ad1_row3_col0\" class=\"data row3 col0\" >0.000320</td>\n",
              "    </tr>\n",
              "    <tr>\n",
              "      <th id=\"T_e7ad1_level1_row4\" class=\"row_heading level1 row4\" >round_round</th>\n",
              "      <td id=\"T_e7ad1_row4_col0\" class=\"data row4 col0\" >0.000310</td>\n",
              "    </tr>\n",
              "  </tbody>\n",
              "</table>\n",
              "<style type=\"text/css\">\n",
              "</style>\n",
              "<table id=\"T_17c8a_\" style='display:inline'>\n",
              "  <thead>\n",
              "    <tr>\n",
              "      <th class=\"blank\" >&nbsp;</th>\n",
              "      <th class=\"blank level0\" >&nbsp;</th>\n",
              "      <th class=\"col_heading level0 col0\" >background_5</th>\n",
              "    </tr>\n",
              "    <tr>\n",
              "      <th class=\"index_name level0\" >modality</th>\n",
              "      <th class=\"index_name level1\" >token</th>\n",
              "      <th class=\"blank col0\" >&nbsp;</th>\n",
              "    </tr>\n",
              "  </thead>\n",
              "  <tbody>\n",
              "    <tr>\n",
              "      <th id=\"T_17c8a_level0_row0\" class=\"row_heading level0 row0\" rowspan=\"5\">@lemmatized</th>\n",
              "      <th id=\"T_17c8a_level1_row0\" class=\"row_heading level1 row0\" >upon</th>\n",
              "      <td id=\"T_17c8a_row0_col0\" class=\"data row0 col0\" >0.005840</td>\n",
              "    </tr>\n",
              "    <tr>\n",
              "      <th id=\"T_17c8a_level1_row1\" class=\"row_heading level1 row1\" >many</th>\n",
              "      <td id=\"T_17c8a_row1_col0\" class=\"data row1 col0\" >0.005600</td>\n",
              "    </tr>\n",
              "    <tr>\n",
              "      <th id=\"T_17c8a_level1_row2\" class=\"row_heading level1 row2\" >life</th>\n",
              "      <td id=\"T_17c8a_row2_col0\" class=\"data row2 col0\" >0.005050</td>\n",
              "    </tr>\n",
              "    <tr>\n",
              "      <th id=\"T_17c8a_level1_row3\" class=\"row_heading level1 row3\" >long</th>\n",
              "      <td id=\"T_17c8a_row3_col0\" class=\"data row3 col0\" >0.004030</td>\n",
              "    </tr>\n",
              "    <tr>\n",
              "      <th id=\"T_17c8a_level1_row4\" class=\"row_heading level1 row4\" >could</th>\n",
              "      <td id=\"T_17c8a_row4_col0\" class=\"data row4 col0\" >0.003720</td>\n",
              "    </tr>\n",
              "  </tbody>\n",
              "</table>\n"
            ]
          },
          "metadata": {}
        }
      ]
    },
    {
      "cell_type": "code",
      "source": [
        "import numpy as np\n",
        "from matplotlib import cm\n",
        "\n",
        "tms = experiment.models\n",
        "colors = np.linspace(0, 0.65, len(tms))\n",
        "\n",
        "plt.figure(figsize=(8,8))\n",
        "\n",
        "for i, tm in enumerate(list(tms.values())[1:]):\n",
        "    score = tm.scores['PerplexityScore@lemmatized']\n",
        "    plt.plot(score, 'o-', color=cm.Blues(colors[i]))\n",
        "\n",
        "plt.show()"
      ],
      "metadata": {
        "colab": {
          "base_uri": "https://localhost:8080/",
          "height": 483
        },
        "id": "1ci8fXYJntmr",
        "outputId": "22cc1b6d-0705-43dd-b4da-b6f3d41266d7"
      },
      "execution_count": 32,
      "outputs": [
        {
          "output_type": "display_data",
          "data": {
            "text/plain": [
              "<Figure size 576x576 with 1 Axes>"
            ],
            "image/png": "[encoded data removed]"
          },
          "metadata": {
            "needs_background": "light"
          }
        }
      ]
    },
    {
      "cell_type": "code",
      "source": [
        "import csv\n",
        "import os\n",
        "\n",
        "def data_process(data,):\n",
        "    data = pd.DataFrame(data,columns=['text'])\n",
        "\n",
        "    data['id'] = data.index\n",
        "    data.index.name = 'id'\n",
        "\n",
        "    lemmatized_text = []\n",
        "\n",
        "    for text in tqdm(data['text'].values):\n",
        "        lemmatized_text.append(text.split())\n",
        "\n",
        "    data['lemmatized'] = lemmatized_text\n",
        "\n",
        "    bigram_measures = BigramAssocMeasures()\n",
        "    finder = BigramCollocationFinder.from_documents(data['lemmatized'])\n",
        "\n",
        "    set_dict = set(finder.nbest(bigram_measures.pmi,31000)[100:])\n",
        "    documents = data['lemmatized']\n",
        "    bigrams = []\n",
        "\n",
        "    for doc in documents:\n",
        "        entry = ['_'.join([word_first, word_second])\n",
        "                for word_first, word_second in zip(doc[:-1],doc[1:])\n",
        "                if (word_first, word_second) in set_dict]\n",
        "        bigrams.append(entry)\n",
        "\n",
        "    data['bigram'] = bigrams\n",
        "    vw_text = []\n",
        "\n",
        "    for index, d in data.iterrows():\n",
        "        vw_string = ''    \n",
        "        doc_id = 'data_id_'+str(d.id)\n",
        "        lemmatized = '@lemmatized ' + vowpalize_sequence(d.lemmatized)\n",
        "        bigram = '@bigram ' + vowpalize_sequence(d.bigram)\n",
        "        vw_string = ' |'.join([doc_id, lemmatized, bigram])\n",
        "        vw_text.append(vw_string)\n",
        "\n",
        "    data['vw_text'] = vw_text\n",
        "    data = data.rename(columns={'text':'raw_text'})\n",
        "    data = data.astype('str')\n",
        "    folder = '/content/test'\n",
        "    if not os.path.exists(folder):\n",
        "        os.makedirs(folder)\n",
        "    data['vw_text'].to_csv(os.path.join(folder,'vw.txt'),sep='\\n', index=False, header=False, quoting = csv.QUOTE_NONE, quotechar='')\n",
        "\n",
        "def ARTM_eval(model, data):\n",
        "    data_process(data)\n",
        "    test_batch_vectorizer = artm.BatchVectorizer(data_path='/content/test/vw.txt',\n",
        "                                          data_format='vowpal_wabbit',\n",
        "                                          target_folder='/content/test/batches')\n",
        "\n",
        "    test_theta_matrix = model.transform(batch_vectorizer=test_batch_vectorizer)\n",
        "    return test_theta_matrix\n",
        "  \n",
        "ARTM_eval(best_model, X_test.drop(labels=['id']))"
      ],
      "metadata": {
        "id": "84XHLJgQnMXL"
      },
      "execution_count": null,
      "outputs": []
    },
    {
      "cell_type": "markdown",
      "metadata": {
        "id": "SPrNOdMLDMVd"
      },
      "source": [
        "Calculate the quality scores for each model. Make a \n",
        "barplot to compare the quality."
      ]
    },
    {
      "cell_type": "code",
      "source": [
        "coh_artm = best_model.score_tracker['TopTokensCoherenceScore'].average_coherence"
      ],
      "metadata": {
        "id": "ynbXXI4VmMgM"
      },
      "execution_count": 35,
      "outputs": []
    },
    {
      "cell_type": "code",
      "source": [
        "q_scores = [coherence(nmf,texts,dictionary).get_coherence(), coherence(lda,texts,dictionary).get_coherence(), coh_artm]\n",
        "q_names = ['NMF', 'LDA', 'ARTM']\n",
        "plt.figure(figsize=(15,10))\n",
        "plt.bar(q_names,q_scores)\n",
        "plt.ylabel = 'Coherence'\n",
        "plt.show()"
      ],
      "metadata": {
        "colab": {
          "base_uri": "https://localhost:8080/",
          "height": 592
        },
        "id": "pK8ykWejwNV7",
        "outputId": "0f349ec2-588e-476b-ca5a-60d51513f012"
      },
      "execution_count": 40,
      "outputs": [
        {
          "output_type": "display_data",
          "data": {
            "text/plain": [
              "<Figure size 1080x720 with 1 Axes>"
            ],
            "image/png": "[encoded data removed]"
          },
          "metadata": {
            "needs_background": "light"
          }
        }
      ]
    }
  ],
  "metadata": {
    "colab": {
      "name": "hw1.ipynb",
      "provenance": [],
      "collapsed_sections": [
        "5ZxcPfLTDMVO"
      ]
    },
    "kernelspec": {
      "display_name": "Python 3",
      "language": "python",
      "name": "python3"
    },
    "language_info": {
      "codemirror_mode": {
        "name": "ipython",
        "version": 3
      },
      "file_extension": ".py",
      "mimetype": "text/x-python",
      "name": "python",
      "nbconvert_exporter": "python",
      "pygments_lexer": "ipython3",
      "version": "3.9.7"
    },
    "accelerator": "GPU"
  },
  "nbformat": 4,
  "nbformat_minor": 0
}