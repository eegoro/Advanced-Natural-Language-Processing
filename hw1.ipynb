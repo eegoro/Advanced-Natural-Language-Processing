{
  "cells": [
    {
      "cell_type": "markdown",
      "metadata": {
        "id": "TEEKQwtYDMUz"
      },
      "source": [
        "**SOFT DEADLINE:** `20.03.2022 23:59 msk` "
      ]
    },
    {
      "cell_type": "markdown",
      "metadata": {
        "id": "g-IAo9sYDMU-"
      },
      "source": [
        "# [5 points] Part 1. Data cleaning"
      ]
    },
    {
      "cell_type": "markdown",
      "metadata": {
        "id": "-SNyjuGjDMU_"
      },
      "source": [
        "The task is to clear the text data of the crawled web-pages from different sites. \n",
        "\n",
        "It is necessary to ensure that the distribution of the 100 most frequent words includes only meaningful words in english language (not particles, conjunctions, prepositions, numbers, tags, symbols)."
      ]
    },
    {
      "cell_type": "markdown",
      "metadata": {
        "id": "TA4VkGl2DMVB"
      },
      "source": [
        "Determine the order of operations below and carry out the appropriate cleaning.\n",
        "\n",
        "1. Remove non-english words\n",
        "1. Remove html-tags (try to do it with regular expression, or play with beautifulsoap library)\n",
        "1. Apply lemmatization / stemming\n",
        "1. Remove stop-words\n",
        "1. Additional processing - At your own initiative, if this helps to obtain a better distribution"
      ]
    },
    {
      "cell_type": "markdown",
      "metadata": {
        "id": "hjLsB9pdDMVC"
      },
      "source": [
        "#### Hints"
      ]
    },
    {
      "cell_type": "markdown",
      "metadata": {
        "id": "mk6ZLncvDMVD"
      },
      "source": [
        "1. To do text processing you may use nltk and re libraries\n",
        "1. and / or any other libraries on your choise"
      ]
    },
    {
      "cell_type": "markdown",
      "metadata": {
        "id": "KCbTa1OiDMVE"
      },
      "source": [
        "#### Data reading"
      ]
    },
    {
      "cell_type": "markdown",
      "metadata": {
        "id": "cXbG649IDMVG"
      },
      "source": [
        "The dataset for this part can be downloaded here: `https://drive.google.com/file/d/1wLwo83J-ikCCZY2RAoYx8NghaSaQ-lBA/view?usp=sharing`"
      ]
    },
    {
      "cell_type": "code",
      "execution_count": 25,
      "metadata": {
        "id": "HN8UxSDkDMVH"
      },
      "outputs": [
        {
          "data": {
            "text/html": [
              "<div>\n",
              "<style scoped>\n",
              "    .dataframe tbody tr th:only-of-type {\n",
              "        vertical-align: middle;\n",
              "    }\n",
              "\n",
              "    .dataframe tbody tr th {\n",
              "        vertical-align: top;\n",
              "    }\n",
              "\n",
              "    .dataframe thead th {\n",
              "        text-align: right;\n",
              "    }\n",
              "</style>\n",
              "<table border=\"1\" class=\"dataframe\">\n",
              "  <thead>\n",
              "    <tr style=\"text-align: right;\">\n",
              "      <th></th>\n",
              "      <th>text</th>\n",
              "    </tr>\n",
              "  </thead>\n",
              "  <tbody>\n",
              "    <tr>\n",
              "      <th>0</th>\n",
              "      <td>&lt;html&gt;\\n&lt;head profile=\"http://www.w3.org/2005/...</td>\n",
              "    </tr>\n",
              "    <tr>\n",
              "      <th>1</th>\n",
              "      <td>&lt;html&gt;\\n&lt;head profile=\"http://www.w3.org/2005/...</td>\n",
              "    </tr>\n",
              "    <tr>\n",
              "      <th>2</th>\n",
              "      <td>&lt;html&gt;\\n&lt;head profile=\"http://www.w3.org/2005/...</td>\n",
              "    </tr>\n",
              "    <tr>\n",
              "      <th>3</th>\n",
              "      <td>&lt;html&gt;\\n&lt;head profile=\"http://www.w3.org/2005/...</td>\n",
              "    </tr>\n",
              "    <tr>\n",
              "      <th>4</th>\n",
              "      <td>&lt;html&gt;\\n&lt;head profile=\"http://www.w3.org/2005/...</td>\n",
              "    </tr>\n",
              "  </tbody>\n",
              "</table>\n",
              "</div>"
            ],
            "text/plain": [
              "                                                text\n",
              "0  <html>\\n<head profile=\"http://www.w3.org/2005/...\n",
              "1  <html>\\n<head profile=\"http://www.w3.org/2005/...\n",
              "2  <html>\\n<head profile=\"http://www.w3.org/2005/...\n",
              "3  <html>\\n<head profile=\"http://www.w3.org/2005/...\n",
              "4  <html>\\n<head profile=\"http://www.w3.org/2005/..."
            ]
          },
          "execution_count": 25,
          "metadata": {},
          "output_type": "execute_result"
        }
      ],
      "source": [
        "import pandas as pd\n",
        "data = pd.read_csv('web_sites_data.csv')\n",
        "\n",
        "data.head()"
      ]
    },
    {
      "cell_type": "markdown",
      "metadata": {
        "id": "fGBTg9g4DMVJ"
      },
      "source": [
        "#### Data processing"
      ]
    },
    {
      "cell_type": "code",
      "execution_count": 26,
      "metadata": {
        "id": "nbpM3QUwDMVK"
      },
      "outputs": [],
      "source": [
        "import nltk\n",
        "import string\n",
        "import re\n",
        "from nltk.tokenize import TreebankWordTokenizer, WhitespaceTokenizer\n",
        "from nltk.stem import PorterStemmer, WordNetLemmatizer\n",
        "from nltk.corpus import stopwords\n",
        "import pandas as pd\n",
        "from bs4 import BeautifulSoup\n",
        "import html\n",
        "from tqdm import tqdm\n",
        "\n",
        "def clear_data(data):\n",
        "    stop_words = stopwords.words(\"english\")\n",
        "\n",
        "    data_list = [i.lower() for i in data['text']]\n",
        "    pre_data = data_list.copy()\n",
        "\n",
        "    for i in tqdm(range(len(data_list))):\n",
        "        \n",
        "        temp = BeautifulSoup(html.unescape(pre_data[i]), 'html.parser').text #Remove html-tags\n",
        "        pre_data[i] = re.sub(r'\\n+', '\\n', temp)\n",
        "        pre_data[i] = re.sub(r'https?://\\S+|www\\.\\S+', '', pre_data[i])\n",
        "        pre_data[i] = re.sub(\"[^a-zA-Z ]+\", \" \", pre_data[i]) # Remove non-english words\n",
        "        pre_data[i] = re.sub(r\"[^\\w\\s]\", \"\", pre_data[i], re.UNICODE)\n",
        "        pre_data[i] = WhitespaceTokenizer().tokenize(pre_data[i])\n",
        "        pre_data[i] = [token for token in pre_data[i] if token not in stop_words and len(token)>3] #Remove stop-words\n",
        "        pre_data[i] = [WordNetLemmatizer().lemmatize(token) for token in pre_data[i]]\n",
        "    return(pre_data)\n"
      ]
    },
    {
      "cell_type": "code",
      "execution_count": 27,
      "metadata": {},
      "outputs": [
        {
          "name": "stderr",
          "output_type": "stream",
          "text": [
            "100%|██████████| 71699/71699 [31:58<00:00, 37.36it/s]  \n"
          ]
        }
      ],
      "source": [
        "pre_data = clear_data(data)"
      ]
    },
    {
      "cell_type": "code",
      "execution_count": 110,
      "metadata": {},
      "outputs": [
        {
          "name": "stderr",
          "output_type": "stream",
          "text": [
            "100%|██████████| 71699/71699 [00:03<00:00, 18437.26it/s]\n"
          ]
        }
      ],
      "source": [
        "for i in tqdm(range(len(pre_data))):\n",
        "    with open('predata.txt', 'a') as file:\n",
        "        file.write(' '.join(pre_data[i]) + '\\n')"
      ]
    },
    {
      "cell_type": "code",
      "execution_count": 111,
      "metadata": {},
      "outputs": [],
      "source": [
        "# pre_data = []\n",
        "# with open('predata.txt', 'r') as file:\n",
        "#     for line in file:\n",
        "#         pre_data.append(line.split())"
      ]
    },
    {
      "cell_type": "markdown",
      "metadata": {
        "id": "_h_c-1kBDMVN"
      },
      "source": [
        "#### Vizualization"
      ]
    },
    {
      "cell_type": "markdown",
      "metadata": {
        "id": "HTu83iAWDMVN"
      },
      "source": [
        "As a visualisation, it is necessary to construct a frequency distribution of words (the 100 most common words), sorted by frequency. \n",
        "\n",
        "For visualization purposes we advice you to use plotly, but you are free to choose other libraries"
      ]
    },
    {
      "cell_type": "code",
      "execution_count": 28,
      "metadata": {
        "id": "bHX6IXcrDMVO"
      },
      "outputs": [
        {
          "data": {
            "text/html": [
              "<div>\n",
              "<style scoped>\n",
              "    .dataframe tbody tr th:only-of-type {\n",
              "        vertical-align: middle;\n",
              "    }\n",
              "\n",
              "    .dataframe tbody tr th {\n",
              "        vertical-align: top;\n",
              "    }\n",
              "\n",
              "    .dataframe thead th {\n",
              "        text-align: right;\n",
              "    }\n",
              "</style>\n",
              "<table border=\"1\" class=\"dataframe\">\n",
              "  <thead>\n",
              "    <tr style=\"text-align: right;\">\n",
              "      <th></th>\n",
              "      <th>word</th>\n",
              "      <th>freq</th>\n",
              "    </tr>\n",
              "  </thead>\n",
              "  <tbody>\n",
              "    <tr>\n",
              "      <th>0</th>\n",
              "      <td>game</td>\n",
              "      <td>625901</td>\n",
              "    </tr>\n",
              "    <tr>\n",
              "      <th>1</th>\n",
              "      <td>xbox</td>\n",
              "      <td>381511</td>\n",
              "    </tr>\n",
              "    <tr>\n",
              "      <th>2</th>\n",
              "      <td>review</td>\n",
              "      <td>249977</td>\n",
              "    </tr>\n",
              "    <tr>\n",
              "      <th>3</th>\n",
              "      <td>news</td>\n",
              "      <td>223887</td>\n",
              "    </tr>\n",
              "    <tr>\n",
              "      <th>4</th>\n",
              "      <td>player</td>\n",
              "      <td>188851</td>\n",
              "    </tr>\n",
              "  </tbody>\n",
              "</table>\n",
              "</div>"
            ],
            "text/plain": [
              "     word    freq\n",
              "0    game  625901\n",
              "1    xbox  381511\n",
              "2  review  249977\n",
              "3    news  223887\n",
              "4  player  188851"
            ]
          },
          "execution_count": 28,
          "metadata": {},
          "output_type": "execute_result"
        }
      ],
      "source": [
        "from collections import Counter\n",
        "\n",
        "def freq_words(pre_data):\n",
        "    counter = Counter()\n",
        "\n",
        "    for words in pre_data:\n",
        "        counter.update(Counter(words))\n",
        "\n",
        "    top = counter.most_common(100)\n",
        "    return pd.DataFrame(top, columns=['word', 'freq'])\n",
        "df_top = freq_words(pre_data)\n",
        "df_top.head()"
      ]
    },
    {
      "cell_type": "code",
      "execution_count": 114,
      "metadata": {},
      "outputs": [
        {
          "data": {
            "image/png": "[encoded data removed]",
            "text/plain": [
              "<Figure size 1080x720 with 1 Axes>"
            ]
          },
          "metadata": {
            "needs_background": "light"
          },
          "output_type": "display_data"
        }
      ],
      "source": [
        "import matplotlib.pyplot as plt\n",
        "\n",
        "plt.figure(figsize=(15,10))\n",
        "plt.bar(df_top['word'],df_top['freq'])\n",
        "plt.xticks(rotation=90)\n",
        "\n",
        "plt.show()\n"
      ]
    },
    {
      "cell_type": "markdown",
      "metadata": {
        "id": "5ZxcPfLTDMVO"
      },
      "source": [
        "#### Provide examples of processed text (some parts)\n",
        "\n",
        "Is everything all right with the result of cleaning these examples? What kind of information was lost?"
      ]
    },
    {
      "cell_type": "code",
      "execution_count": 115,
      "metadata": {
        "id": "2BSMfa9lDMVP"
      },
      "outputs": [
        {
          "data": {
            "text/plain": [
              "'<html>\\n<head profile=\"http://www.w3.org/2005/10/profile\">\\n<LINK REL=\"SHORTCUT ICON\" href=\"http://i.bookmooch.com/favicon.ico\"> \\n<link rel=\"icon\" type=\"image/png\" href=\"http://i.bookmooch.com/favicon.png\">\\n<title>Eric Newby : Love and War in the Apennines</title>\\n<meta http-equiv=\"Content-Type\" content=\"text/html\">\\n\\t\\n</head>\\n<body bgcolor=\"#FFFFFF\" leftmargin=\"0\" topmargin=\"0\" marginwidth=\"0\" marginheight=\"0\" text=\"#000000\" link=\"#0000FF\" vlink=\"#0000FF\" alink=\"#FF0000\" >\\n<basefont face=\"arial, sans-serif\"><font face=\"arial, sans-serif\">\\n<table width=\"100%\" height=\"70\" border=\"0\" cellpadding=\"0\" cellspacing=\"0\">\\n\\t<tr><form action=\"/search\" method=\"get\">\\n\\t\\t<td width=\"283\" colspan=\"2\" rowspan=\"2\" bgcolor=\"#689A9B\">\\n\\t\\t\\t<a href=\"/\">\\n\\t\\t\\t\\t<img src=\"http://i.bookmooch.com/images/bookmooch_logo.gif\" width=\"283\" height=\"66\" border=\"0\" alt=\"BookMooch logo\"></a></td>\\n\\t\\t<td width=\"675\" height=\"38\" colspan=\"9\" align=\"right\" bgcolor=\"#689A9B\" xcolor=\"#689A9B\">\\n\\t\\t\\n<table border=0 cellpadding=\"0\" cells'"
            ]
          },
          "execution_count": 115,
          "metadata": {},
          "output_type": "execute_result"
        }
      ],
      "source": [
        "data['text'][0][:1000]"
      ]
    },
    {
      "cell_type": "code",
      "execution_count": 116,
      "metadata": {
        "id": "0xn6XK7UDMVP"
      },
      "outputs": [
        {
          "data": {
            "text/plain": [
              "'eric newby love apennines eric newby love apennines author eric newby title love apennines moochable copy copy available amazon suggests short walk hindu kushslowly gangeson shore mediterraneanthe last grain raceround ireland gear recommended bookmooch bookmooch bookmark show recommendation topic abridgedancientasiaaudiobooksbiographies memoirsbiographies memoir generalbooks cassetteeastern frontedition format europeflorencehiroshima nagasakihistoryhistory europe generalhistory europe italy generalhome frontintelligence operationsitalyiwo jimamedievalmilanmilitarynaplesnavalnormandypearl harborpersonal narrativesreferencerefinementsrenaissanceromesardiniasicilystalingradtraveltravel europe italy generaltuscanyumbriavenicewestern frontwomenworld iiwriting published english binding audio cassette page date isbn publisher harpercollins audio weight pound size inch edition abridged amazon price previous giver jessierey previous moocher wishlists description book description italy made peace summer allied pow eric newby among walked away prison camp italy occupied german camp behind line newby went mountain help local evaded retreating enemy italian peasant sheltered three month classic memoir newby recall selfless people unchanging lifestyle funny bizarre dangerous incident hope local girl later became wife exciting story superbly told punch related interest carlino stuart hood passage freedom joseph frelinghuysen available wishlist save later amazon site related edition recommend'"
            ]
          },
          "execution_count": 116,
          "metadata": {},
          "output_type": "execute_result"
        }
      ],
      "source": [
        "' '.join(pre_data[0][:1000])"
      ]
    },
    {
      "cell_type": "markdown",
      "metadata": {
        "id": "IlSeYg4sDMVQ"
      },
      "source": [
        "# [10 points] Part 2. Duplicates detection. LSH"
      ]
    },
    {
      "cell_type": "markdown",
      "metadata": {
        "id": "ZuMBHSiDDMVR"
      },
      "source": [
        "#### Libraries you can use\n",
        "\n",
        "1. LSH - https://github.com/ekzhu/datasketch\n",
        "1. LSH - https://github.com/mattilyra/LSH\n",
        "1. Any other library on your choise"
      ]
    },
    {
      "cell_type": "markdown",
      "metadata": {
        "id": "uff5aBpgDMVR"
      },
      "source": [
        "1. Detect duplicated text (duplicates do not imply a complete word-to-word match, but texts that may contain a paraphrase, rearrangement of words, sentences)\n",
        "1. Make a plot dependency of duplicates on shingle size (with fixed minhash length) \n",
        "1. Make a plot dependency of duplicates on minhash length (with fixed shingle size)"
      ]
    },
    {
      "cell_type": "code",
      "execution_count": 117,
      "metadata": {},
      "outputs": [],
      "source": [
        "def shringl(s, l = 5):\n",
        "    return [s[i:i+l] for i in range(len(s))][:-l]\n"
      ]
    },
    {
      "cell_type": "code",
      "execution_count": 118,
      "metadata": {
        "id": "QOFZ7AvyDMVS"
      },
      "outputs": [
        {
          "name": "stderr",
          "output_type": "stream",
          "text": [
            "100%|██████████| 71699/71699 [00:04<00:00, 14689.10it/s]\n",
            "100%|██████████| 71699/71699 [00:01<00:00, 42831.07it/s]\n",
            "100%|██████████| 71699/71699 [00:03<00:00, 19402.79it/s]\n",
            "100%|██████████| 71699/71699 [00:02<00:00, 24986.60it/s]\n",
            "100%|██████████| 71699/71699 [00:02<00:00, 25804.33it/s]\n"
          ]
        },
        {
          "data": {
            "text/plain": [
              "Text(0.5, 0, 'Shringle size')"
            ]
          },
          "execution_count": 118,
          "metadata": {},
          "output_type": "execute_result"
        },
        {
          "data": {
            "image/png": "[encoded data removed]",
            "text/plain": [
              "<Figure size 432x288 with 1 Axes>"
            ]
          },
          "metadata": {
            "needs_background": "light"
          },
          "output_type": "display_data"
        }
      ],
      "source": [
        "from datasketch import MinHash, MinHashLSH\n",
        "\n",
        "def lsh_similar(minhashes,num_perm):\n",
        "    lsh = MinHashLSH(num_perm=num_perm)\n",
        "    for i, mh in enumerate(tqdm(minhashes)):\n",
        "        # Check if duplicate of already seen item\n",
        "        for j in lsh.query(mh):\n",
        "            yield (j, i)\n",
        "        # Add to the seen items\n",
        "        lsh.insert(i, mh)\n",
        "\n",
        "shr_sizes = [5,10,15,20,25]\n",
        "num_perm = 50\n",
        "duplicates = []\n",
        "for shr_size in shr_sizes:\n",
        "    minhashes = []\n",
        "    for s in pre_data: \n",
        "        s = ' '.join(s) \n",
        "        shr = shringl(s,shr_size)\n",
        "        m = MinHash(num_perm=num_perm)\n",
        "        for d in shr:\n",
        "            m.update(d.encode('utf8'))\n",
        "        minhashes.append(m)\n",
        "    similar_all = list(lsh_similar(minhashes,num_perm))\n",
        "    duplicates.append(len(similar_all))\n",
        "\n",
        "\n",
        "plt.bar(shr_sizes,duplicates)\n",
        "plt.ylabel('Number of duplicates')\n",
        "plt.xlabel('Shringle size')\n"
      ]
    },
    {
      "cell_type": "code",
      "execution_count": 119,
      "metadata": {},
      "outputs": [
        {
          "name": "stderr",
          "output_type": "stream",
          "text": [
            "100%|██████████| 71699/71699 [00:01<00:00, 55626.90it/s]\n",
            "100%|██████████| 71699/71699 [00:03<00:00, 21920.37it/s]\n",
            "100%|██████████| 71699/71699 [00:04<00:00, 16253.78it/s]\n",
            "100%|██████████| 71699/71699 [00:04<00:00, 14418.38it/s]\n",
            "100%|██████████| 71699/71699 [00:05<00:00, 13546.01it/s]\n"
          ]
        },
        {
          "data": {
            "text/plain": [
              "Text(0.5, 0, 'Minhash num_perm')"
            ]
          },
          "execution_count": 119,
          "metadata": {},
          "output_type": "execute_result"
        },
        {
          "data": {
            "image/png": "[encoded data removed]",
            "text/plain": [
              "<Figure size 432x288 with 1 Axes>"
            ]
          },
          "metadata": {
            "needs_background": "light"
          },
          "output_type": "display_data"
        }
      ],
      "source": [
        "shr_size = 10\n",
        "num_perms = [50,100,150,200,250]\n",
        "duplicates = []\n",
        "for num_perm in num_perms:\n",
        "    minhashes = []\n",
        "    for s in pre_data: \n",
        "        s = ' '.join(s) \n",
        "        shr = shringl(s,shr_size)\n",
        "        m = MinHash(num_perm=num_perm)\n",
        "        for d in shr:\n",
        "            m.update(d.encode('utf8'))\n",
        "        minhashes.append(m)\n",
        "    similar_all = list(lsh_similar(minhashes,num_perm))\n",
        "    duplicates.append(len(similar_all))\n",
        "\n",
        "\n",
        "plt.bar(num_perms,duplicates)\n",
        "plt.ylabel('Number of duplicates')\n",
        "plt.xlabel('Minhash num_perm')"
      ]
    },
    {
      "cell_type": "markdown",
      "metadata": {
        "id": "njdTa1daDMVS"
      },
      "source": [
        "# [Optional 10 points] Part 3. Topic model"
      ]
    },
    {
      "cell_type": "markdown",
      "metadata": {
        "id": "4BwJNkn2DMVT"
      },
      "source": [
        "In this part you will learn how to do topic modeling with common tools and assess the resulting quality of the models. "
      ]
    },
    {
      "cell_type": "code",
      "execution_count": 29,
      "metadata": {
        "id": "l0WcLMhHDMVT"
      },
      "outputs": [
        {
          "data": {
            "text/html": [
              "<div>\n",
              "<style scoped>\n",
              "    .dataframe tbody tr th:only-of-type {\n",
              "        vertical-align: middle;\n",
              "    }\n",
              "\n",
              "    .dataframe tbody tr th {\n",
              "        vertical-align: top;\n",
              "    }\n",
              "\n",
              "    .dataframe thead th {\n",
              "        text-align: right;\n",
              "    }\n",
              "</style>\n",
              "<table border=\"1\" class=\"dataframe\">\n",
              "  <thead>\n",
              "    <tr style=\"text-align: right;\">\n",
              "      <th></th>\n",
              "      <th>id</th>\n",
              "      <th>text</th>\n",
              "      <th>author</th>\n",
              "    </tr>\n",
              "  </thead>\n",
              "  <tbody>\n",
              "    <tr>\n",
              "      <th>0</th>\n",
              "      <td>id26305</td>\n",
              "      <td>This process, however, afforded me no means of...</td>\n",
              "      <td>EAP</td>\n",
              "    </tr>\n",
              "    <tr>\n",
              "      <th>1</th>\n",
              "      <td>id17569</td>\n",
              "      <td>It never once occurred to me that the fumbling...</td>\n",
              "      <td>HPL</td>\n",
              "    </tr>\n",
              "    <tr>\n",
              "      <th>2</th>\n",
              "      <td>id11008</td>\n",
              "      <td>In his left hand was a gold snuff box, from wh...</td>\n",
              "      <td>EAP</td>\n",
              "    </tr>\n",
              "    <tr>\n",
              "      <th>3</th>\n",
              "      <td>id27763</td>\n",
              "      <td>How lovely is spring As we looked from Windsor...</td>\n",
              "      <td>MWS</td>\n",
              "    </tr>\n",
              "    <tr>\n",
              "      <th>4</th>\n",
              "      <td>id12958</td>\n",
              "      <td>Finding nothing else, not even gold, the Super...</td>\n",
              "      <td>HPL</td>\n",
              "    </tr>\n",
              "  </tbody>\n",
              "</table>\n",
              "</div>"
            ],
            "text/plain": [
              "        id                                               text author\n",
              "0  id26305  This process, however, afforded me no means of...    EAP\n",
              "1  id17569  It never once occurred to me that the fumbling...    HPL\n",
              "2  id11008  In his left hand was a gold snuff box, from wh...    EAP\n",
              "3  id27763  How lovely is spring As we looked from Windsor...    MWS\n",
              "4  id12958  Finding nothing else, not even gold, the Super...    HPL"
            ]
          },
          "execution_count": 29,
          "metadata": {},
          "output_type": "execute_result"
        }
      ],
      "source": [
        "import pandas as pd\n",
        "data2 = pd.read_csv('data.csv')\n",
        "\n",
        "data2.head()"
      ]
    },
    {
      "cell_type": "markdown",
      "metadata": {
        "id": "WkNFzxqPDMVU"
      },
      "source": [
        "The provided data contain chunked stories by Edgar Allan Poe (EAP), Mary Shelley (MWS), and HP Lovecraft (HPL).\n",
        "\n",
        "The dataset can be downloaded here: `https://drive.google.com/file/d/14tAjAzHr6UmFVFV7ABTyNHBh-dWHAaLH/view?usp=sharing`"
      ]
    },
    {
      "cell_type": "markdown",
      "metadata": {
        "id": "5BNIa1miDMVU"
      },
      "source": [
        "#### Preprocess dataset with the functions from the Part 1"
      ]
    },
    {
      "cell_type": "code",
      "execution_count": 30,
      "metadata": {},
      "outputs": [
        {
          "name": "stderr",
          "output_type": "stream",
          "text": [
            "100%|██████████| 19579/19579 [00:02<00:00, 7429.48it/s]\n"
          ]
        },
        {
          "data": {
            "text/html": [
              "<div>\n",
              "<style scoped>\n",
              "    .dataframe tbody tr th:only-of-type {\n",
              "        vertical-align: middle;\n",
              "    }\n",
              "\n",
              "    .dataframe tbody tr th {\n",
              "        vertical-align: top;\n",
              "    }\n",
              "\n",
              "    .dataframe thead th {\n",
              "        text-align: right;\n",
              "    }\n",
              "</style>\n",
              "<table border=\"1\" class=\"dataframe\">\n",
              "  <thead>\n",
              "    <tr style=\"text-align: right;\">\n",
              "      <th></th>\n",
              "      <th>id</th>\n",
              "      <th>text</th>\n",
              "      <th>author</th>\n",
              "    </tr>\n",
              "  </thead>\n",
              "  <tbody>\n",
              "    <tr>\n",
              "      <th>0</th>\n",
              "      <td>id26305</td>\n",
              "      <td>process however afforded mean ascertaining dim...</td>\n",
              "      <td>EAP</td>\n",
              "    </tr>\n",
              "    <tr>\n",
              "      <th>1</th>\n",
              "      <td>id17569</td>\n",
              "      <td>never occurred fumbling might mere mistake</td>\n",
              "      <td>HPL</td>\n",
              "    </tr>\n",
              "    <tr>\n",
              "      <th>2</th>\n",
              "      <td>id11008</td>\n",
              "      <td>left hand gold snuff capered hill cutting mann...</td>\n",
              "      <td>EAP</td>\n",
              "    </tr>\n",
              "    <tr>\n",
              "      <th>3</th>\n",
              "      <td>id27763</td>\n",
              "      <td>lovely spring looked windsor terrace sixteen f...</td>\n",
              "      <td>MWS</td>\n",
              "    </tr>\n",
              "    <tr>\n",
              "      <th>4</th>\n",
              "      <td>id12958</td>\n",
              "      <td>finding nothing else even gold superintendent ...</td>\n",
              "      <td>HPL</td>\n",
              "    </tr>\n",
              "  </tbody>\n",
              "</table>\n",
              "</div>"
            ],
            "text/plain": [
              "        id                                               text author\n",
              "0  id26305  process however afforded mean ascertaining dim...    EAP\n",
              "1  id17569         never occurred fumbling might mere mistake    HPL\n",
              "2  id11008  left hand gold snuff capered hill cutting mann...    EAP\n",
              "3  id27763  lovely spring looked windsor terrace sixteen f...    MWS\n",
              "4  id12958  finding nothing else even gold superintendent ...    HPL"
            ]
          },
          "execution_count": 30,
          "metadata": {},
          "output_type": "execute_result"
        }
      ],
      "source": [
        "data2['text'] = [' '.join(l) for l in clear_data(data2)]\n",
        "data2.head()"
      ]
    },
    {
      "cell_type": "markdown",
      "metadata": {
        "id": "qKU2D29CDMVV"
      },
      "source": [
        "#### Quality estimation"
      ]
    },
    {
      "cell_type": "markdown",
      "metadata": {
        "id": "l6xfd3vpDMVW"
      },
      "source": [
        "Implement the following three quality fuctions: `coherence` (or `tf-idf coherence`), `normalized PMI`, `based on the distributed word representation`(you can use pretrained w2v vectors or some other model). You are free to use any libraries (for instance gensim) and components."
      ]
    },
    {
      "cell_type": "code",
      "execution_count": 33,
      "metadata": {
        "id": "AEtv-gWcDMVW"
      },
      "outputs": [],
      "source": [
        "from gensim.models import CoherenceModel, Nmf, LdaModel \n",
        "from gensim import corpora\n",
        "\n",
        "def q_func(model, texts, dictionary, coh):\n",
        "    return CoherenceModel(model=model, texts=texts, dictionary=dictionary, coherence='c_v')\n",
        "\n",
        "def coherence(model,texts,dictionary):\n",
        "    return q_func(model, texts, dictionary, 'c_v')\n",
        "def norm_PMI(model,texts,dictionary):\n",
        "    return q_func(model, texts, dictionary, 'c_npmi')\n",
        "def distword(model,texts,dictionary):\n",
        "    return q_func(model, texts, dictionary, 'u_mass')"
      ]
    },
    {
      "cell_type": "markdown",
      "metadata": {
        "id": "Kp1jTJmPDMVX"
      },
      "source": [
        "### Topic modeling"
      ]
    },
    {
      "cell_type": "markdown",
      "metadata": {
        "id": "lgbVtgphDMVX"
      },
      "source": [
        "Read and preprocess the dataset, divide it into train and test parts `sklearn.model_selection.train_test_split`. Test part will be used in classification part. For simplicity we do not perform cross-validation here, but you should remember about it."
      ]
    },
    {
      "cell_type": "code",
      "execution_count": 34,
      "metadata": {
        "id": "_Uh0J_C8DMVY"
      },
      "outputs": [],
      "source": [
        "from sklearn.model_selection import train_test_split\n",
        "\n",
        "X = data2.text\n",
        "y = data2.author\n",
        "\n",
        "X_train, X_test, y_train, y_test = train_test_split(X, y, test_size=0.2, random_state=42)"
      ]
    },
    {
      "cell_type": "markdown",
      "metadata": {
        "id": "rNepVz1wDMVY"
      },
      "source": [
        "Plot the histogram of resulting tokens counts in the processed datasets."
      ]
    },
    {
      "cell_type": "code",
      "execution_count": 41,
      "metadata": {
        "id": "L_7JVEfbDMVZ"
      },
      "outputs": [
        {
          "data": {
            "image/png": "[encoded data removed]",
            "text/plain": [
              "<Figure size 1080x720 with 1 Axes>"
            ]
          },
          "metadata": {
            "needs_background": "light"
          },
          "output_type": "display_data"
        }
      ],
      "source": [
        "df_top_train = freq_words([x.split() for x in X_train])\n",
        "\n",
        "plt.figure(figsize=(15,10))\n",
        "plt.bar(df_top_train['word'],df_top_train['freq'])\n",
        "plt.xticks(rotation=90)\n",
        "plt.title(\"Train dataset\")\n",
        "\n",
        "plt.show()"
      ]
    },
    {
      "cell_type": "markdown",
      "metadata": {
        "id": "ulOjNL9vDMVZ"
      },
      "source": [
        "Plot the histogram of resulting tokens counts in the processed datasets."
      ]
    },
    {
      "cell_type": "code",
      "execution_count": 43,
      "metadata": {
        "id": "HAse0LBvDMVa"
      },
      "outputs": [
        {
          "data": {
            "image/png": "[encoded data removed]",
            "text/plain": [
              "<Figure size 1080x720 with 1 Axes>"
            ]
          },
          "metadata": {
            "needs_background": "light"
          },
          "output_type": "display_data"
        }
      ],
      "source": [
        "\n",
        "df_top_test = freq_words([x.split() for x in X_test])\n",
        "\n",
        "plt.figure(figsize=(15,10))\n",
        "plt.bar(df_top_test['word'],df_top_test['freq'])\n",
        "plt.xticks(rotation=90)\n",
        "plt.title(\"Test dataset\")\n",
        "\n",
        "plt.show()"
      ]
    },
    {
      "cell_type": "markdown",
      "metadata": {
        "id": "4N86AaGNDMVa"
      },
      "source": [
        "#### NMF"
      ]
    },
    {
      "cell_type": "markdown",
      "metadata": {
        "id": "kPelcAFQDMVa"
      },
      "source": [
        "Implement topic modeling with NMF (you can use `sklearn.decomposition.NMF`) and print out resulting topics. Try to change hyperparameters to better fit the dataset."
      ]
    },
    {
      "cell_type": "code",
      "execution_count": 44,
      "metadata": {},
      "outputs": [],
      "source": [
        "texts = [string.split() for string in X_train]\n",
        "dictionary = corpora.Dictionary(texts)\n",
        "corpus = [dictionary.doc2bow(text) for text in texts]"
      ]
    },
    {
      "cell_type": "code",
      "execution_count": 61,
      "metadata": {
        "id": "DCPzCMMMDMVa"
      },
      "outputs": [
        {
          "name": "stdout",
          "output_type": "stream",
          "text": [
            "(0, '0.094*\"upon\" + 0.006*\"said\" + 0.005*\"little\" + 0.004*\"thus\" + 0.004*\"found\" + 0.004*\"hand\" + 0.004*\"first\" + 0.004*\"never\" + 0.003*\"head\" + 0.003*\"foot\"') (1, '0.081*\"could\" + 0.006*\"little\" + 0.004*\"room\" + 0.004*\"light\" + 0.004*\"night\" + 0.004*\"nothing\" + 0.004*\"never\" + 0.004*\"without\" + 0.003*\"face\" + 0.003*\"wall\"') (2, '0.014*\"even\" + 0.011*\"thing\" + 0.010*\"great\" + 0.008*\"still\" + 0.007*\"eye\" + 0.006*\"love\" + 0.006*\"seemed\" + 0.006*\"many\" + 0.005*\"earth\" + 0.005*\"world\"')\n",
            "Coherence: 0.3526447443170273\n",
            "Normalized PMI: 0.3526447443170273\n",
            "PMI: 0.3526447443170273\n"
          ]
        }
      ],
      "source": [
        "nmf = Nmf(corpus, id2word=dictionary, num_topics=5, random_state=42, chunksize=100)\n",
        "print(*nmf.print_topics()[:3])\n",
        "\n",
        "print('Coherence:', coherence(nmf,texts,dictionary).get_coherence())\n",
        "print('Normalized PMI:', norm_PMI(nmf,texts,dictionary).get_coherence())\n",
        "print('PMI:', distword(nmf,texts,dictionary).get_coherence())"
      ]
    },
    {
      "cell_type": "markdown",
      "metadata": {
        "id": "zuaKAGIWDMVb"
      },
      "source": [
        "#### LDA"
      ]
    },
    {
      "cell_type": "markdown",
      "metadata": {
        "id": "PAK_MfQxDMVb"
      },
      "source": [
        "Implement topic modeling with LDA (you can use gensim implementation) and print out resulting topics. Try to change hyperparameters to better fit the dataset."
      ]
    },
    {
      "cell_type": "code",
      "execution_count": 63,
      "metadata": {
        "id": "fdzopuCJDMVb"
      },
      "outputs": [
        {
          "name": "stdout",
          "output_type": "stream",
          "text": [
            "[(0, '0.008*\"upon\" + 0.005*\"eye\" + 0.005*\"could\" + 0.004*\"door\" + 0.004*\"thought\" + 0.004*\"would\" + 0.004*\"whose\" + 0.003*\"room\" + 0.003*\"house\" + 0.003*\"still\"'), (1, '0.008*\"would\" + 0.006*\"night\" + 0.005*\"upon\" + 0.005*\"said\" + 0.004*\"came\" + 0.004*\"like\" + 0.003*\"length\" + 0.003*\"life\" + 0.003*\"still\" + 0.003*\"might\"'), (2, '0.007*\"could\" + 0.005*\"found\" + 0.005*\"upon\" + 0.004*\"great\" + 0.004*\"might\" + 0.003*\"would\" + 0.003*\"like\" + 0.003*\"whole\" + 0.003*\"time\" + 0.003*\"place\"')]\n",
            "Coherence: 0.22279152385012044\n",
            "Normalized PMI: 0.22279152385012044\n",
            "PMI: 0.22279152385012044\n"
          ]
        }
      ],
      "source": [
        "lda = LdaModel(corpus, num_topics=5, id2word=dictionary)\n",
        "print(lda.print_topics()[:3])\n",
        "\n",
        "print('Coherence:', coherence(lda,texts,dictionary).get_coherence())\n",
        "print('Normalized PMI:', norm_PMI(lda,texts,dictionary).get_coherence())\n",
        "print('PMI:', distword(lda,texts,dictionary).get_coherence())"
      ]
    },
    {
      "cell_type": "markdown",
      "metadata": {
        "id": "vSF6fq0NDMVc"
      },
      "source": [
        "### Additive regularization of topic models "
      ]
    },
    {
      "cell_type": "markdown",
      "metadata": {
        "id": "tVcA4itQDMVc"
      },
      "source": [
        "Implement topic modeling with ARTM. You may use bigartm library (simple installation for linux: pip install bigartm) or TopicNet framework (`https://github.com/machine-intelligence-laboratory/TopicNet`)"
      ]
    },
    {
      "cell_type": "markdown",
      "metadata": {
        "id": "03xhr0PmDMVc"
      },
      "source": [
        "Create artm topic model fit it to the data. Try to change hyperparameters (number of specific and background topics) to better fit the dataset. Play with smoothing and sparsing coefficients (use grid), try to add decorrelator. Print out resulting topics."
      ]
    },
    {
      "cell_type": "code",
      "execution_count": null,
      "metadata": {
        "id": "tgv1qIUZDMVc"
      },
      "outputs": [],
      "source": []
    },
    {
      "cell_type": "markdown",
      "metadata": {
        "id": "mteOYV8TDMVd"
      },
      "source": [
        "Write a function to convert new documents to topics probabilities vectors."
      ]
    },
    {
      "cell_type": "code",
      "execution_count": null,
      "metadata": {
        "id": "IGkD9YaxDMVd"
      },
      "outputs": [],
      "source": []
    },
    {
      "cell_type": "markdown",
      "metadata": {
        "id": "SPrNOdMLDMVd"
      },
      "source": [
        "Calculate the quality scores for each model. Make a barplot to compare the quality."
      ]
    },
    {
      "cell_type": "code",
      "execution_count": null,
      "metadata": {
        "id": "hQadAQCXDMVd"
      },
      "outputs": [],
      "source": []
    }
  ],
  "metadata": {
    "colab": {
      "name": "Copy of HW1.ipynb",
      "provenance": []
    },
    "kernelspec": {
      "display_name": "Python 3",
      "language": "python",
      "name": "python3"
    },
    "language_info": {
      "codemirror_mode": {
        "name": "ipython",
        "version": 3
      },
      "file_extension": ".py",
      "mimetype": "text/x-python",
      "name": "python",
      "nbconvert_exporter": "python",
      "pygments_lexer": "ipython3",
      "version": "3.9.7"
    }
  },
  "nbformat": 4,
  "nbformat_minor": 0
}
